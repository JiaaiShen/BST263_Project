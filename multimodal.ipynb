{
 "cells": [
  {
   "attachments": {},
   "cell_type": "markdown",
   "metadata": {},
   "source": [
    "## **Dependencies**"
   ]
  },
  {
   "cell_type": "code",
   "execution_count": 25,
   "metadata": {},
   "outputs": [],
   "source": [
    "import numpy as np \n",
    "import pandas as pd\n",
    "import matplotlib.pyplot as plt\n",
    "\n",
    "from sklearn.impute import SimpleImputer\n",
    "from sklearn.preprocessing import StandardScaler\n",
    "from sklearn.feature_extraction.text import TfidfVectorizer\n",
    "from sklearn.model_selection import train_test_split, RandomizedSearchCV\n",
    "from sklearn.linear_model import LogisticRegressionCV\n",
    "from sklearn.svm import SVC \n",
    "from sklearn.gaussian_process import GaussianProcessClassifier\n",
    "from sklearn.gaussian_process.kernels import RBF, DotProduct\n",
    "from sklearn.pipeline import Pipeline\n",
    "from sklearn.metrics import roc_auc_score, accuracy_score, confusion_matrix\n",
    "\n",
    "from xgboost import XGBClassifier\n",
    "\n",
    "from imblearn.combine import SMOTETomek # because our data is unbalanced\n",
    "\n",
    "random_state = 42\n",
    "np.random.seed(random_state)\n"
   ]
  },
  {
   "attachments": {},
   "cell_type": "markdown",
   "metadata": {},
   "source": [
    "## **Data Processing**"
   ]
  },
  {
   "cell_type": "code",
   "execution_count": 2,
   "metadata": {},
   "outputs": [],
   "source": [
    "dat_nurse = pd.read_csv('./data/prepared_641.csv')\n",
    "# dat_nurse.head()"
   ]
  },
  {
   "cell_type": "code",
   "execution_count": 3,
   "metadata": {},
   "outputs": [
    {
     "name": "stdout",
     "output_type": "stream",
     "text": [
      "<class 'pandas.core.frame.DataFrame'>\n",
      "RangeIndex: 641 entries, 0 to 640\n",
      "Data columns (total 62 columns):\n",
      " #   Column                    Non-Null Count  Dtype  \n",
      "---  ------                    --------------  -----  \n",
      " 0   HADM_ID                   641 non-null    int64  \n",
      " 1   group                     641 non-null    int64  \n",
      " 2   ID                        641 non-null    int64  \n",
      " 3   outcome                   640 non-null    float64\n",
      " 4   age                       641 non-null    int64  \n",
      " 5   gendera                   641 non-null    int64  \n",
      " 6   BMI                       514 non-null    float64\n",
      " 7   hypertensive              641 non-null    int64  \n",
      " 8   atrialfibrillation        641 non-null    int64  \n",
      " 9   CHD with no MI            641 non-null    int64  \n",
      " 10  diabetes                  641 non-null    int64  \n",
      " 11  deficiencyanemias         641 non-null    int64  \n",
      " 12  depression                641 non-null    int64  \n",
      " 13  Hyperlipemia              641 non-null    int64  \n",
      " 14  Renal failure             641 non-null    int64  \n",
      " 15  COPD                      641 non-null    int64  \n",
      " 16  heart rate                633 non-null    float64\n",
      " 17  Systolic blood pressure   633 non-null    float64\n",
      " 18  Diastolic blood pressure  633 non-null    float64\n",
      " 19  Respiratory rate          633 non-null    float64\n",
      " 20  temperature               633 non-null    float64\n",
      " 21  SP O2                     633 non-null    float64\n",
      " 22  Urine output              619 non-null    float64\n",
      " 23  hematocrit                641 non-null    float64\n",
      " 24  RBC                       641 non-null    float64\n",
      " 25  MCH                       641 non-null    float64\n",
      " 26  MCHC                      641 non-null    float64\n",
      " 27  MCV                       641 non-null    float64\n",
      " 28  RDW                       641 non-null    float64\n",
      " 29  Leucocyte                 641 non-null    float64\n",
      " 30  Platelets                 641 non-null    float64\n",
      " 31  Neutrophils               564 non-null    float64\n",
      " 32  Basophils                 494 non-null    float64\n",
      " 33  Lymphocyte                564 non-null    float64\n",
      " 34  PT                        629 non-null    float64\n",
      " 35  INR                       629 non-null    float64\n",
      " 36  NT-proBNP                 641 non-null    float64\n",
      " 37  Creatine kinase           582 non-null    float64\n",
      " 38  Creatinine                641 non-null    float64\n",
      " 39  Urea nitrogen             641 non-null    float64\n",
      " 40  glucose                   631 non-null    float64\n",
      " 41  Blood potassium           641 non-null    float64\n",
      " 42  Blood sodium              641 non-null    float64\n",
      " 43  Blood calcium             641 non-null    float64\n",
      " 44  Chloride                  641 non-null    float64\n",
      " 45  Anion gap                 641 non-null    float64\n",
      " 46  Magnesium ion             641 non-null    float64\n",
      " 47  PH                        487 non-null    float64\n",
      " 48  Bicarbonate               641 non-null    float64\n",
      " 49  Lactic acid               501 non-null    float64\n",
      " 50  PCO2                      490 non-null    float64\n",
      " 51  EF                        641 non-null    int64  \n",
      " 52  ROW_ID                    641 non-null    int64  \n",
      " 53  SUBJECT_ID                641 non-null    int64  \n",
      " 54  CHARTDATE                 641 non-null    object \n",
      " 55  CHARTTIME                 641 non-null    object \n",
      " 56  STORETIME                 641 non-null    object \n",
      " 57  CATEGORY                  641 non-null    object \n",
      " 58  DESCRIPTION               641 non-null    object \n",
      " 59  CGID                      641 non-null    float64\n",
      " 60  ISERROR                   16 non-null     float64\n",
      " 61  TEXT                      641 non-null    object \n",
      "dtypes: float64(39), int64(17), object(6)\n",
      "memory usage: 310.6+ KB\n"
     ]
    }
   ],
   "source": [
    "dat_nurse.info()"
   ]
  },
  {
   "cell_type": "code",
   "execution_count": 24,
   "metadata": {},
   "outputs": [
    {
     "data": {
      "text/plain": [
       "(array([548.,   0.,   0.,   0.,   0.,   0.,   0.,   0.,   0.,  92.]),\n",
       " array([0. , 0.1, 0.2, 0.3, 0.4, 0.5, 0.6, 0.7, 0.8, 0.9, 1. ]),\n",
       " <BarContainer object of 10 artists>)"
      ]
     },
     "execution_count": 24,
     "metadata": {},
     "output_type": "execute_result"
    },
    {
     "data": {
      "image/png": "[encoded data removed]",
      "text/plain": [
       "<Figure size 640x480 with 1 Axes>"
      ]
     },
     "metadata": {},
     "output_type": "display_data"
    }
   ],
   "source": [
    "plt.hist(dat_nurse['outcome'])"
   ]
  },
  {
   "cell_type": "code",
   "execution_count": 4,
   "metadata": {},
   "outputs": [],
   "source": [
    "# drop na (outcome na)\n",
    "dat_nurse = dat_nurse[dat_nurse['outcome'].notnull()]\n",
    "# train-test-split\n",
    "train_dat, test_dat = train_test_split(dat_nurse, test_size = 0.15,  stratify=dat_nurse['outcome'], random_state=random_state)\n",
    "# val_dat, test_dat = train_test_split(test_dat, test_size = 0.5, stratify=test_dat['outcome'], random_state=random_state)"
   ]
  },
  {
   "cell_type": "code",
   "execution_count": 5,
   "metadata": {},
   "outputs": [],
   "source": [
    "# organizing data\n",
    "clin_col = train_dat.columns[4:-10] # remove IDs, outcome, text\n",
    "outcome_col = train_dat.columns[3]\n",
    "text_col = train_dat.columns[-8:]\n",
    "\n",
    "train_dat_clin, test_dat_clin = train_dat.loc[:, clin_col], test_dat.loc[:, clin_col]\n",
    "train_dat_outcome, test_dat_outcome = train_dat.loc[:, outcome_col], test_dat.loc[:, outcome_col]\n",
    "train_dat_text, test_dat_text = train_dat.loc[:, text_col], test_dat.loc[:, text_col]"
   ]
  },
  {
   "cell_type": "code",
   "execution_count": 6,
   "metadata": {},
   "outputs": [],
   "source": [
    "# standardize & impute clinical\n",
    "clin_pipe = Pipeline([\n",
    "    ('scalar', StandardScaler()),\n",
    "    ('med_imputer', SimpleImputer(strategy = \"median\"))\n",
    "])\n",
    "\n",
    "clin_pipe.fit(train_dat_clin)\n",
    "train_dat_clin_imp = clin_pipe.transform(train_dat_clin)\n",
    "# val_dat_clin_imp = clin_pipe.transform(val_dat_clin)\n",
    "test_dat_clin_imp = clin_pipe.transform(test_dat_clin)"
   ]
  },
  {
   "cell_type": "code",
   "execution_count": 7,
   "metadata": {},
   "outputs": [],
   "source": [
    "# tfidf\n",
    "train_doc = list(train_dat_text['TEXT'])\n",
    "# val_doc = list(val_dat_text['TEXT'])\n",
    "test_doc = list(test_dat_text['TEXT'])\n",
    "\n",
    "tfidf_vectorizer = TfidfVectorizer(binary = True) # default l2 reg, 1-grams, binary word\n",
    "tfidf_vectorizer.fit(train_doc)\n",
    "train_dat_text_tfidf = tfidf_vectorizer.transform(train_doc).toarray()\n",
    "# val_dat_text_tfidf = tfidf_vectorizer.transform(val_doc).toarray()\n",
    "test_dat_text_tfidf = tfidf_vectorizer.transform(test_doc).toarray()"
   ]
  },
  {
   "cell_type": "code",
   "execution_count": 8,
   "metadata": {},
   "outputs": [
    {
     "name": "stdout",
     "output_type": "stream",
     "text": [
      "(544, 8842)\n",
      "(544, 48)\n"
     ]
    }
   ],
   "source": [
    "print(train_dat_text_tfidf.shape)\n",
    "print(train_dat_clin_imp.shape)"
   ]
  },
  {
   "cell_type": "code",
   "execution_count": 9,
   "metadata": {},
   "outputs": [
    {
     "name": "stdout",
     "output_type": "stream",
     "text": [
      "train/val/test shape:  (544, 8890) (96, 8890)\n"
     ]
    }
   ],
   "source": [
    "# combining data together\n",
    "train_x = np.hstack([train_dat_clin_imp, train_dat_text_tfidf])\n",
    "# val_x = np.hstack([val_dat_clin_imp, val_dat_text_tfidf])\n",
    "test_x = np.hstack([test_dat_clin_imp, test_dat_text_tfidf])\n",
    "\n",
    "train_y = train_dat_outcome.to_numpy()\n",
    "# val_y = val_dat_outcome.to_numpy()\n",
    "test_y = test_dat_outcome.to_numpy()\n",
    "\n",
    "# https://imbalanced-learn.org/stable/combine.html\n",
    "print(\"train/val/test shape: \", train_x.shape, test_x.shape)#, val_x.shape, test_x.shape)"
   ]
  },
  {
   "cell_type": "code",
   "execution_count": 26,
   "metadata": {},
   "outputs": [
    {
     "name": "stdout",
     "output_type": "stream",
     "text": [
      "(466, 8890) (78, 8890)\n",
      "(466, 8890) (466, 8890)\n"
     ]
    }
   ],
   "source": [
    "# SMOTE for imbalance\n",
    "smote_tomek = SMOTETomek(random_state = random_state)\n",
    "train_x_resamp, train_y_resamp = smote_tomek.fit_resample(train_x, train_y)\n",
    "print(train_x[train_y == 0].shape, train_x[train_y == 1].shape)\n",
    "print(train_x_resamp[train_y_resamp == 0].shape, train_x_resamp[train_y_resamp == 1].shape)"
   ]
  },
  {
   "attachments": {},
   "cell_type": "markdown",
   "metadata": {},
   "source": [
    "## **Modelling**"
   ]
  },
  {
   "cell_type": "code",
   "execution_count": 27,
   "metadata": {},
   "outputs": [],
   "source": [
    "params = {\n",
    "    'LogisticRegressionCV' : {\n",
    "        'penalty' : ['l2']\n",
    "    },\n",
    "    'SVC' : {\n",
    "        'kernel' : ['linear', 'poly', 'rbf'],\n",
    "        'degree' : [3, 4, 5]\n",
    "    },\n",
    "    'GaussianProcessClassifier' : { # https://stackoverflow.com/questions/62755556/gaussian-process-regression-hyparameter-optimisation-using-python-grid-search\n",
    "            \"kernel\": [RBF(l) for l in np.logspace(-1, 1, 20)]\n",
    "        },\n",
    "    'XGBClassifier' : { # got from some towardsdatascience article i forgot\n",
    "            'gamma': [0,0.1,0.2,0.4,0.8,1.6,3.2,6.4,12.8,25.6,51.2,102.4, 200],\n",
    "            'learning_rate': [0.01, 0.03, 0.06, 0.1, 0.15, 0.2, 0.25, 0.300000012, 0.4, 0.5, 0.6, 0.7],\n",
    "            'max_depth': [5,6,7,8,9,10,11,12,13,14],\n",
    "            'n_estimators': [50,65,80,100,115,130,150],\n",
    "            'reg_alpha': [0,0.1,0.2,0.4,0.8,1.6,3.2,6.4,12.8,25.6,51.2,102.4,200],\n",
    "            'reg_lambda': [0,0.1,0.2,0.4,0.8,1.6,3.2,6.4,12.8,25.6,51.2,102.4,200],\n",
    "            'eval_metric': ['auc'],\n",
    "            'objective': ['binary:logistic']\n",
    "    }\n",
    "}"
   ]
  },
  {
   "cell_type": "code",
   "execution_count": 28,
   "metadata": {},
   "outputs": [],
   "source": [
    "def fit(x, y, parameters, n_iter, random_state = 42):\n",
    "    \"\"\"\n",
    "    Randomized hyperparameter tuning for fitting models\n",
    "\n",
    "    parameters:\n",
    "        n_iter -- number of parameter settings sampled\n",
    "    \"\"\"\n",
    "    print(\"Training LogisticRegressionCV:\")\n",
    "    lr = LogisticRegressionCV(max_iter = int(1e6))\n",
    "    rs_lr = RandomizedSearchCV(lr, parameters['LogisticRegressionCV'], n_iter = n_iter, random_state=random_state)\n",
    "    rs_lr.fit(x, y) \n",
    "\n",
    "    print(\"Training SVC:\")\n",
    "    svc = SVC(probability = True)\n",
    "    rs_svc = RandomizedSearchCV(svc, parameters['SVC'], n_iter = n_iter, random_state=random_state)\n",
    "    rs_svc.fit(x, y)\n",
    "\n",
    "    print(\"Training GaussianProcessClassifier:\")\n",
    "    gp = GaussianProcessClassifier()\n",
    "    rs_gp = RandomizedSearchCV(gp, parameters['GaussianProcessClassifier'], n_iter = n_iter, random_state=random_state)\n",
    "    rs_gp.fit(x, y)\n",
    "\n",
    "    print(\"Training XGBClassifier:\")\n",
    "    xgb = XGBClassifier()\n",
    "    rs_xgb = RandomizedSearchCV(xgb, parameters['XGBClassifier'], n_iter = n_iter, random_state=random_state)\n",
    "    rs_xgb.fit(x, y) \n",
    "\n",
    "    models = [rs_lr, rs_svc, rs_gp, rs_xgb]\n",
    "    return models \n"
   ]
  },
  {
   "cell_type": "code",
   "execution_count": 29,
   "metadata": {},
   "outputs": [
    {
     "name": "stdout",
     "output_type": "stream",
     "text": [
      "Training LogisticRegressionCV:\n"
     ]
    },
    {
     "name": "stderr",
     "output_type": "stream",
     "text": [
      "/Users/rjunw/opt/anaconda3/envs/bst263_final/lib/python3.9/site-packages/sklearn/model_selection/_search.py:305: UserWarning: The total space of parameters 1 is smaller than n_iter=20. Running 1 iterations. For exhaustive searches, use GridSearchCV.\n",
      "  warnings.warn(\n"
     ]
    },
    {
     "name": "stdout",
     "output_type": "stream",
     "text": [
      "Training SVC:\n"
     ]
    },
    {
     "name": "stderr",
     "output_type": "stream",
     "text": [
      "/Users/rjunw/opt/anaconda3/envs/bst263_final/lib/python3.9/site-packages/sklearn/model_selection/_search.py:305: UserWarning: The total space of parameters 9 is smaller than n_iter=20. Running 9 iterations. For exhaustive searches, use GridSearchCV.\n",
      "  warnings.warn(\n"
     ]
    },
    {
     "name": "stdout",
     "output_type": "stream",
     "text": [
      "Training GaussianProcessClassifier:\n",
      "Training XGBClassifier:\n"
     ]
    }
   ],
   "source": [
    "models = fit(train_x_resamp, train_y_resamp, params, n_iter = 20, random_state = random_state)"
   ]
  },
  {
   "cell_type": "code",
   "execution_count": null,
   "metadata": {},
   "outputs": [
    {
     "name": "stdout",
     "output_type": "stream",
     "text": [
      "LogisticRegressionCV(max_iter=1000000) {'penalty': 'l2'} 0.8640163098878695\n",
      "SVC(kernel='linear', probability=True) {'kernel': 'linear', 'degree': 3} 0.8640163098878695\n",
      "GaussianProcessClassifier(kernel=RBF(length_scale=1.13)) {'kernel': RBF(length_scale=1.13)} 0.8621474685694869\n",
      "XGBClassifier(base_score=None, booster=None, callbacks=None,\n",
      "              colsample_bylevel=None, colsample_bynode=None,\n",
      "              colsample_bytree=None, early_stopping_rounds=None,\n",
      "              enable_categorical=False, eval_metric=None, feature_types=None,\n",
      "              gamma=0, gpu_id=None, grow_policy=None, importance_type=None,\n",
      "              interaction_constraints=None, learning_rate=0.1, max_bin=None,\n",
      "              max_cat_threshold=None, max_cat_to_onehot=None,\n",
      "              max_delta_step=None, max_depth=9, max_leaves=None,\n",
      "              min_child_weight=None, missing=nan, monotone_constraints=None,\n",
      "              n_estimators=130, n_jobs=None, num_parallel_tree=None,\n",
      "              predictor=None, random_state=None, ...) {'reg_lambda': 51.2, 'reg_alpha': 0.1, 'n_estimators': 130, 'max_depth': 9, 'learning_rate': 0.1, 'gamma': 0} 0.8640163098878695\n"
     ]
    }
   ],
   "source": [
    "for model in models:\n",
    "    print(model.best_estimator_, model.best_params_, model.best_score_)"
   ]
  },
  {
   "cell_type": "code",
   "execution_count": null,
   "metadata": {},
   "outputs": [],
   "source": [
    "def evaluate(x, y, models):\n",
    "    scores = {\n",
    "        'ACC': [], \n",
    "        'AUC': [],\n",
    "        'CMAT': []\n",
    "    }\n",
    "    for model in models:\n",
    "        y_pred = model.predict(x)\n",
    "        y_proba = model.predict_proba(x)[:, 1]\n",
    "        scores['ACC'].append(accuracy_score(y, y_pred))\n",
    "        scores['AUC'].append(roc_auc_score(y, y_proba))\n",
    "        scores['CMAT'].append(confusion_matrix(y, y_pred))\n",
    "        \n",
    "    return scores "
   ]
  },
  {
   "cell_type": "code",
   "execution_count": null,
   "metadata": {},
   "outputs": [
    {
     "data": {
      "text/plain": [
       "{'ACC': [0.8541666666666666,\n",
       "  0.8333333333333334,\n",
       "  0.8645833333333334,\n",
       "  0.8541666666666666],\n",
       " 'AUC': [0.6611498257839721,\n",
       "  0.6358885017421603,\n",
       "  0.8301393728222997,\n",
       "  0.6655052264808362],\n",
       " 'CMAT': [array([[79,  3],\n",
       "         [11,  3]]),\n",
       "  array([[77,  5],\n",
       "         [11,  3]]),\n",
       "  array([[82,  0],\n",
       "         [13,  1]]),\n",
       "  array([[81,  1],\n",
       "         [13,  1]])]}"
      ]
     },
     "execution_count": 19,
     "metadata": {},
     "output_type": "execute_result"
    }
   ],
   "source": [
    "evaluate(test_x, test_y, models)"
   ]
  },
  {
   "attachments": {},
   "cell_type": "markdown",
   "metadata": {},
   "source": [
    "## **Viz**"
   ]
  },
  {
   "cell_type": "markdown",
   "metadata": {},
   "source": []
  }
 ],
 "metadata": {
  "kernelspec": {
   "display_name": "bst263_final",
   "language": "python",
   "name": "python3"
  },
  "language_info": {
   "codemirror_mode": {
    "name": "ipython",
    "version": 3
   },
   "file_extension": ".py",
   "mimetype": "text/x-python",
   "name": "python",
   "nbconvert_exporter": "python",
   "pygments_lexer": "ipython3",
   "version": "3.9.16"
  },
  "orig_nbformat": 4
 },
 "nbformat": 4,
 "nbformat_minor": 2
}
