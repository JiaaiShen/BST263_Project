{
  "cells": [
    {
      "cell_type": "markdown",
      "metadata": {
        "id": "NWCIKmTo1FaA"
      },
      "source": [
        "## **Dependencies**"
      ]
    },
    {
      "cell_type": "code",
      "execution_count": 1,
      "metadata": {
        "id": "UYnhpNlj1FaE"
      },
      "outputs": [],
      "source": [
        "import numpy as np \n",
        "import pandas as pd\n",
        "import matplotlib.pyplot as plt\n",
        "\n",
        "from sklearn.impute import SimpleImputer\n",
        "from sklearn.preprocessing import StandardScaler\n",
        "from sklearn.feature_extraction.text import TfidfVectorizer\n",
        "from sklearn.model_selection import train_test_split, RandomizedSearchCV\n",
        "from sklearn.linear_model import LogisticRegressionCV\n",
        "from sklearn.svm import SVC \n",
        "from sklearn.gaussian_process import GaussianProcessClassifier\n",
        "from sklearn.gaussian_process.kernels import RBF, DotProduct\n",
        "from sklearn.pipeline import Pipeline\n",
        "from sklearn.metrics import roc_auc_score, accuracy_score, confusion_matrix\n",
        "\n",
        "from xgboost import XGBClassifier\n",
        "\n",
        "from imblearn.combine import SMOTETomek # because our data is unbalanced\n",
        "\n",
        "random_state = 42\n",
        "np.random.seed(random_state)\n"
      ]
    },
    {
      "cell_type": "markdown",
      "metadata": {
        "id": "RFocurx_1FaG"
      },
      "source": [
        "## **Data Processing**"
      ]
    },
    {
      "cell_type": "code",
      "source": [
        "from google.colab import drive\n",
        "drive.mount('/content/drive')\n",
        "\n",
        "import os\n",
        "os.chdir('/content/drive/MyDrive')"
      ],
      "metadata": {
        "colab": {
          "base_uri": "https://localhost:8080/"
        },
        "id": "JNQloHvy1vA5",
        "outputId": "d2eb240e-1002-4664-cb73-bc4359cbd843"
      },
      "execution_count": 2,
      "outputs": [
        {
          "output_type": "stream",
          "name": "stdout",
          "text": [
            "Mounted at /content/drive\n"
          ]
        }
      ]
    },
    {
      "cell_type": "code",
      "execution_count": 3,
      "metadata": {
        "id": "pWiQZfX91FaG"
      },
      "outputs": [],
      "source": [
        "dat_nurse = pd.read_csv('./prepared_641.csv')"
      ]
    },
    {
      "cell_type": "code",
      "source": [
        "dat_nurse.head()"
      ],
      "metadata": {
        "colab": {
          "base_uri": "https://localhost:8080/",
          "height": 647
        },
        "id": "2prsCsLZ2Nh7",
        "outputId": "98193754-1c7b-46a7-ef67-26bf3656ffc9"
      },
      "execution_count": null,
      "outputs": [
        {
          "output_type": "execute_result",
          "data": {
            "text/plain": [
              "   HADM_ID  group      ID  outcome  age  gendera        BMI  hypertensive  \\\n",
              "0   100571      1  100571      0.0   67        1  32.284350             1   \n",
              "1   100660      1  100660      0.0   75        1        NaN             1   \n",
              "2   100753      1  100753      0.0   52        2  21.788538             0   \n",
              "3   100908      2  100908      0.0   89        1  28.646298             1   \n",
              "4   101197      1  101197      1.0   89        2  26.209730             0   \n",
              "\n",
              "   atrialfibrillation  CHD with no MI  ...   ROW_ID  SUBJECT_ID   CHARTDATE  \\\n",
              "0                   0               0  ...   656364       99008  2173-02-20   \n",
              "1                   0               0  ...  1269150         631  2124-01-23   \n",
              "2                   0               0  ...  1270324         720  2160-05-04   \n",
              "3                   0               0  ...  1621829       27504  2113-01-02   \n",
              "4                   1               0  ...  1310787        3771  2190-12-12   \n",
              "\n",
              "             CHARTTIME            STORETIME       CATEGORY  \\\n",
              "0  2173-02-20 06:44:00  2173-02-20 06:44:48        Nursing   \n",
              "1  2124-01-23 14:03:00  2124-01-23 14:07:00  Nursing/other   \n",
              "2  2160-05-04 19:09:00  2160-05-04 19:22:00  Nursing/other   \n",
              "3  2113-01-02 06:31:00  2113-01-02 06:46:00  Nursing/other   \n",
              "4  2190-12-12 16:35:00  2190-12-12 16:37:00  Nursing/other   \n",
              "\n",
              "             DESCRIPTION     CGID  ISERROR  \\\n",
              "0  Nursing Progress Note  18928.0      NaN   \n",
              "1                 Report  15597.0      NaN   \n",
              "2                 Report  15055.0      NaN   \n",
              "3                 Report  15746.0      NaN   \n",
              "4                 Report  20290.0      NaN   \n",
              "\n",
              "                                                TEXT  \n",
              "0  Hypotension (not Shock)\\n   Assessment:\\n   Hy...  \n",
              "1  Respiratory Care:\\npt extubated to a 40% cool ...  \n",
              "2  NSG ADMISSION NOTE\\nMs. [**Name13 (STitle) 304...  \n",
              "3  ccu npn\\n\\n[**Age over 90 **] yr old male pmh:...  \n",
              "4  Respiratory Care Note\\nPt received from PACU i...  \n",
              "\n",
              "[5 rows x 62 columns]"
            ],
            "text/html": [
              "\n",
              "  <div id=\"df-fb5e9b0a-bad3-4b51-a626-fb8840003c94\">\n",
              "    <div class=\"colab-df-container\">\n",
              "      <div>\n",
              "<style scoped>\n",
              "    .dataframe tbody tr th:only-of-type {\n",
              "        vertical-align: middle;\n",
              "    }\n",
              "\n",
              "    .dataframe tbody tr th {\n",
              "        vertical-align: top;\n",
              "    }\n",
              "\n",
              "    .dataframe thead th {\n",
              "        text-align: right;\n",
              "    }\n",
              "</style>\n",
              "<table border=\"1\" class=\"dataframe\">\n",
              "  <thead>\n",
              "    <tr style=\"text-align: right;\">\n",
              "      <th></th>\n",
              "      <th>HADM_ID</th>\n",
              "      <th>group</th>\n",
              "      <th>ID</th>\n",
              "      <th>outcome</th>\n",
              "      <th>age</th>\n",
              "      <th>gendera</th>\n",
              "      <th>BMI</th>\n",
              "      <th>hypertensive</th>\n",
              "      <th>atrialfibrillation</th>\n",
              "      <th>CHD with no MI</th>\n",
              "      <th>...</th>\n",
              "      <th>ROW_ID</th>\n",
              "      <th>SUBJECT_ID</th>\n",
              "      <th>CHARTDATE</th>\n",
              "      <th>CHARTTIME</th>\n",
              "      <th>STORETIME</th>\n",
              "      <th>CATEGORY</th>\n",
              "      <th>DESCRIPTION</th>\n",
              "      <th>CGID</th>\n",
              "      <th>ISERROR</th>\n",
              "      <th>TEXT</th>\n",
              "    </tr>\n",
              "  </thead>\n",
              "  <tbody>\n",
              "    <tr>\n",
              "      <th>0</th>\n",
              "      <td>100571</td>\n",
              "      <td>1</td>\n",
              "      <td>100571</td>\n",
              "      <td>0.0</td>\n",
              "      <td>67</td>\n",
              "      <td>1</td>\n",
              "      <td>32.284350</td>\n",
              "      <td>1</td>\n",
              "      <td>0</td>\n",
              "      <td>0</td>\n",
              "      <td>...</td>\n",
              "      <td>656364</td>\n",
              "      <td>99008</td>\n",
              "      <td>2173-02-20</td>\n",
              "      <td>2173-02-20 06:44:00</td>\n",
              "      <td>2173-02-20 06:44:48</td>\n",
              "      <td>Nursing</td>\n",
              "      <td>Nursing Progress Note</td>\n",
              "      <td>18928.0</td>\n",
              "      <td>NaN</td>\n",
              "      <td>Hypotension (not Shock)\\n   Assessment:\\n   Hy...</td>\n",
              "    </tr>\n",
              "    <tr>\n",
              "      <th>1</th>\n",
              "      <td>100660</td>\n",
              "      <td>1</td>\n",
              "      <td>100660</td>\n",
              "      <td>0.0</td>\n",
              "      <td>75</td>\n",
              "      <td>1</td>\n",
              "      <td>NaN</td>\n",
              "      <td>1</td>\n",
              "      <td>0</td>\n",
              "      <td>0</td>\n",
              "      <td>...</td>\n",
              "      <td>1269150</td>\n",
              "      <td>631</td>\n",
              "      <td>2124-01-23</td>\n",
              "      <td>2124-01-23 14:03:00</td>\n",
              "      <td>2124-01-23 14:07:00</td>\n",
              "      <td>Nursing/other</td>\n",
              "      <td>Report</td>\n",
              "      <td>15597.0</td>\n",
              "      <td>NaN</td>\n",
              "      <td>Respiratory Care:\\npt extubated to a 40% cool ...</td>\n",
              "    </tr>\n",
              "    <tr>\n",
              "      <th>2</th>\n",
              "      <td>100753</td>\n",
              "      <td>1</td>\n",
              "      <td>100753</td>\n",
              "      <td>0.0</td>\n",
              "      <td>52</td>\n",
              "      <td>2</td>\n",
              "      <td>21.788538</td>\n",
              "      <td>0</td>\n",
              "      <td>0</td>\n",
              "      <td>0</td>\n",
              "      <td>...</td>\n",
              "      <td>1270324</td>\n",
              "      <td>720</td>\n",
              "      <td>2160-05-04</td>\n",
              "      <td>2160-05-04 19:09:00</td>\n",
              "      <td>2160-05-04 19:22:00</td>\n",
              "      <td>Nursing/other</td>\n",
              "      <td>Report</td>\n",
              "      <td>15055.0</td>\n",
              "      <td>NaN</td>\n",
              "      <td>NSG ADMISSION NOTE\\nMs. [**Name13 (STitle) 304...</td>\n",
              "    </tr>\n",
              "    <tr>\n",
              "      <th>3</th>\n",
              "      <td>100908</td>\n",
              "      <td>2</td>\n",
              "      <td>100908</td>\n",
              "      <td>0.0</td>\n",
              "      <td>89</td>\n",
              "      <td>1</td>\n",
              "      <td>28.646298</td>\n",
              "      <td>1</td>\n",
              "      <td>0</td>\n",
              "      <td>0</td>\n",
              "      <td>...</td>\n",
              "      <td>1621829</td>\n",
              "      <td>27504</td>\n",
              "      <td>2113-01-02</td>\n",
              "      <td>2113-01-02 06:31:00</td>\n",
              "      <td>2113-01-02 06:46:00</td>\n",
              "      <td>Nursing/other</td>\n",
              "      <td>Report</td>\n",
              "      <td>15746.0</td>\n",
              "      <td>NaN</td>\n",
              "      <td>ccu npn\\n\\n[**Age over 90 **] yr old male pmh:...</td>\n",
              "    </tr>\n",
              "    <tr>\n",
              "      <th>4</th>\n",
              "      <td>101197</td>\n",
              "      <td>1</td>\n",
              "      <td>101197</td>\n",
              "      <td>1.0</td>\n",
              "      <td>89</td>\n",
              "      <td>2</td>\n",
              "      <td>26.209730</td>\n",
              "      <td>0</td>\n",
              "      <td>1</td>\n",
              "      <td>0</td>\n",
              "      <td>...</td>\n",
              "      <td>1310787</td>\n",
              "      <td>3771</td>\n",
              "      <td>2190-12-12</td>\n",
              "      <td>2190-12-12 16:35:00</td>\n",
              "      <td>2190-12-12 16:37:00</td>\n",
              "      <td>Nursing/other</td>\n",
              "      <td>Report</td>\n",
              "      <td>20290.0</td>\n",
              "      <td>NaN</td>\n",
              "      <td>Respiratory Care Note\\nPt received from PACU i...</td>\n",
              "    </tr>\n",
              "  </tbody>\n",
              "</table>\n",
              "<p>5 rows × 62 columns</p>\n",
              "</div>\n",
              "      <button class=\"colab-df-convert\" onclick=\"convertToInteractive('df-fb5e9b0a-bad3-4b51-a626-fb8840003c94')\"\n",
              "              title=\"Convert this dataframe to an interactive table.\"\n",
              "              style=\"display:none;\">\n",
              "        \n",
              "  <svg xmlns=\"http://www.w3.org/2000/svg\" height=\"24px\"viewBox=\"0 0 24 24\"\n",
              "       width=\"24px\">\n",
              "    <path d=\"M0 0h24v24H0V0z\" fill=\"none\"/>\n",
              "    <path d=\"M18.56 5.44l.94 2.06.94-2.06 2.06-.94-2.06-.94-.94-2.06-.94 2.06-2.06.94zm-11 1L8.5 8.5l.94-2.06 2.06-.94-2.06-.94L8.5 2.5l-.94 2.06-2.06.94zm10 10l.94 2.06.94-2.06 2.06-.94-2.06-.94-.94-2.06-.94 2.06-2.06.94z\"/><path d=\"M17.41 7.96l-1.37-1.37c-.4-.4-.92-.59-1.43-.59-.52 0-1.04.2-1.43.59L10.3 9.45l-7.72 7.72c-.78.78-.78 2.05 0 2.83L4 21.41c.39.39.9.59 1.41.59.51 0 1.02-.2 1.41-.59l7.78-7.78 2.81-2.81c.8-.78.8-2.07 0-2.86zM5.41 20L4 18.59l7.72-7.72 1.47 1.35L5.41 20z\"/>\n",
              "  </svg>\n",
              "      </button>\n",
              "      \n",
              "  <style>\n",
              "    .colab-df-container {\n",
              "      display:flex;\n",
              "      flex-wrap:wrap;\n",
              "      gap: 12px;\n",
              "    }\n",
              "\n",
              "    .colab-df-convert {\n",
              "      background-color: #E8F0FE;\n",
              "      border: none;\n",
              "      border-radius: 50%;\n",
              "      cursor: pointer;\n",
              "      display: none;\n",
              "      fill: #1967D2;\n",
              "      height: 32px;\n",
              "      padding: 0 0 0 0;\n",
              "      width: 32px;\n",
              "    }\n",
              "\n",
              "    .colab-df-convert:hover {\n",
              "      background-color: #E2EBFA;\n",
              "      box-shadow: 0px 1px 2px rgba(60, 64, 67, 0.3), 0px 1px 3px 1px rgba(60, 64, 67, 0.15);\n",
              "      fill: #174EA6;\n",
              "    }\n",
              "\n",
              "    [theme=dark] .colab-df-convert {\n",
              "      background-color: #3B4455;\n",
              "      fill: #D2E3FC;\n",
              "    }\n",
              "\n",
              "    [theme=dark] .colab-df-convert:hover {\n",
              "      background-color: #434B5C;\n",
              "      box-shadow: 0px 1px 3px 1px rgba(0, 0, 0, 0.15);\n",
              "      filter: drop-shadow(0px 1px 2px rgba(0, 0, 0, 0.3));\n",
              "      fill: #FFFFFF;\n",
              "    }\n",
              "  </style>\n",
              "\n",
              "      <script>\n",
              "        const buttonEl =\n",
              "          document.querySelector('#df-fb5e9b0a-bad3-4b51-a626-fb8840003c94 button.colab-df-convert');\n",
              "        buttonEl.style.display =\n",
              "          google.colab.kernel.accessAllowed ? 'block' : 'none';\n",
              "\n",
              "        async function convertToInteractive(key) {\n",
              "          const element = document.querySelector('#df-fb5e9b0a-bad3-4b51-a626-fb8840003c94');\n",
              "          const dataTable =\n",
              "            await google.colab.kernel.invokeFunction('convertToInteractive',\n",
              "                                                     [key], {});\n",
              "          if (!dataTable) return;\n",
              "\n",
              "          const docLinkHtml = 'Like what you see? Visit the ' +\n",
              "            '<a target=\"_blank\" href=https://colab.research.google.com/notebooks/data_table.ipynb>data table notebook</a>'\n",
              "            + ' to learn more about interactive tables.';\n",
              "          element.innerHTML = '';\n",
              "          dataTable['output_type'] = 'display_data';\n",
              "          await google.colab.output.renderOutput(dataTable, element);\n",
              "          const docLink = document.createElement('div');\n",
              "          docLink.innerHTML = docLinkHtml;\n",
              "          element.appendChild(docLink);\n",
              "        }\n",
              "      </script>\n",
              "    </div>\n",
              "  </div>\n",
              "  "
            ]
          },
          "metadata": {},
          "execution_count": 11
        }
      ]
    },
    {
      "cell_type": "code",
      "execution_count": null,
      "metadata": {
        "id": "OGJaLTK_1FaH"
      },
      "outputs": [],
      "source": [
        "dat_nurse.info()"
      ]
    },
    {
      "cell_type": "code",
      "execution_count": 12,
      "metadata": {
        "colab": {
          "base_uri": "https://localhost:8080/",
          "height": 484
        },
        "id": "-urxzV5e1FaI",
        "outputId": "44620df3-875a-4782-e85c-fc7b77af8bca"
      },
      "outputs": [
        {
          "output_type": "execute_result",
          "data": {
            "text/plain": [
              "(array([548.,   0.,   0.,   0.,   0.,   0.,   0.,   0.,   0.,  92.]),\n",
              " array([0. , 0.1, 0.2, 0.3, 0.4, 0.5, 0.6, 0.7, 0.8, 0.9, 1. ]),\n",
              " <BarContainer object of 10 artists>)"
            ]
          },
          "metadata": {},
          "execution_count": 12
        },
        {
          "output_type": "display_data",
          "data": {
            "text/plain": [
              "<Figure size 640x480 with 1 Axes>"
            ],
            "image/png": "[encoded data removed]"
          },
          "metadata": {}
        }
      ],
      "source": [
        "plt.hist(dat_nurse['outcome'])"
      ]
    },
    {
      "cell_type": "code",
      "execution_count": 4,
      "metadata": {
        "id": "D1TQCdIt1FaJ"
      },
      "outputs": [],
      "source": [
        "# drop na (outcome na)\n",
        "dat_nurse = dat_nurse[dat_nurse['outcome'].notnull()]\n",
        "# train-test-split\n",
        "train_dat, test_dat = train_test_split(dat_nurse, test_size = 0.15,  stratify=dat_nurse['outcome'], random_state=random_state)\n",
        "# val_dat, test_dat = train_test_split(test_dat, test_size = 0.5, stratify=test_dat['outcome'], random_state=random_state)"
      ]
    },
    {
      "cell_type": "code",
      "execution_count": 5,
      "metadata": {
        "id": "E8WH_VyW1FaJ"
      },
      "outputs": [],
      "source": [
        "# organizing data\n",
        "clin_col = train_dat.columns[4:-10] # remove IDs, outcome, text\n",
        "outcome_col = train_dat.columns[3]\n",
        "text_col = train_dat.columns[-8:]\n",
        "\n",
        "train_dat_clin, test_dat_clin = train_dat.loc[:, clin_col], test_dat.loc[:, clin_col]\n",
        "train_dat_outcome, test_dat_outcome = train_dat.loc[:, outcome_col], test_dat.loc[:, outcome_col]\n",
        "train_dat_text, test_dat_text = train_dat.loc[:, text_col], test_dat.loc[:, text_col]"
      ]
    },
    {
      "cell_type": "code",
      "source": [
        "# standardize & impute clinical\n",
        "# clin_pipe = Pipeline([\n",
        "#     ('scalar', StandardScaler()),\n",
        "#     ('med_imputer', SimpleImputer(strategy = \"median\"))\n",
        "# ])\n",
        "\n",
        "# clin_pipe.fit(train_dat_clin)\n",
        "# train_dat_clin_imp = clin_pipe.transform(train_dat_clin)\n",
        "# val_dat_clin_imp = clin_pipe.transform(val_dat_clin)\n",
        "# test_dat_clin_imp = clin_pipe.transform(test_dat_clin)"
      ],
      "metadata": {
        "id": "b0WT9Gf99Hj7"
      },
      "execution_count": null,
      "outputs": []
    },
    {
      "cell_type": "markdown",
      "source": [
        "## **TF-IDF**"
      ],
      "metadata": {
        "id": "BrBXAbB_eMal"
      }
    },
    {
      "cell_type": "code",
      "execution_count": 10,
      "metadata": {
        "id": "SsliqWHa1FaL"
      },
      "outputs": [],
      "source": [
        "# tfidf\n",
        "train_doc = list(train_dat['TEXT'])\n",
        "# val_doc = list(val_dat['TEXT'])\n",
        "test_doc = list(test_dat['TEXT'])\n",
        "\n",
        "tfidf_vectorizer = TfidfVectorizer(binary = True) # default l2 reg, 1-grams, binary word\n",
        "tfidf_vectorizer.fit(train_doc)\n",
        "train_dat_text_tfidf = tfidf_vectorizer.transform(train_doc).toarray()\n",
        "# val_dat_text_tfidf = tfidf_vectorizer.transform(val_doc).toarray()\n",
        "test_dat_text_tfidf = tfidf_vectorizer.transform(test_doc).toarray()"
      ]
    },
    {
      "cell_type": "code",
      "execution_count": 11,
      "metadata": {
        "colab": {
          "base_uri": "https://localhost:8080/"
        },
        "id": "6gTPSJlI1FaL",
        "outputId": "a7799c2e-4550-4c98-98ca-169e098d3947"
      },
      "outputs": [
        {
          "output_type": "stream",
          "name": "stdout",
          "text": [
            "(544, 8842)\n"
          ]
        }
      ],
      "source": [
        "print(train_dat_text_tfidf.shape)"
      ]
    },
    {
      "cell_type": "code",
      "execution_count": 13,
      "metadata": {
        "id": "NrUjs4dz1FaP",
        "colab": {
          "base_uri": "https://localhost:8080/"
        },
        "outputId": "e3c03e20-e99a-47e1-a741-a759ce58a708"
      },
      "outputs": [
        {
          "output_type": "stream",
          "name": "stdout",
          "text": [
            "train/val/test shape:  (544, 8842) (96, 8842)\n"
          ]
        }
      ],
      "source": [
        "# combining data together\n",
        "train_x = np.hstack([train_dat_text_tfidf])\n",
        "# val_x = np.hstack([val_dat_text_tfidf])\n",
        "test_x = np.hstack([test_dat_text_tfidf])\n",
        "\n",
        "train_y = train_dat_outcome.to_numpy()\n",
        "# val_y = val_dat_outcome.to_numpy()\n",
        "test_y = test_dat_outcome.to_numpy()\n",
        "\n",
        "# https://imbalanced-learn.org/stable/combine.html\n",
        "print(\"train/val/test shape: \", train_x.shape, test_x.shape)#, val_x.shape, test_x.shape)"
      ]
    },
    {
      "cell_type": "code",
      "execution_count": 14,
      "metadata": {
        "colab": {
          "base_uri": "https://localhost:8080/"
        },
        "id": "sBqzAdl21FaP",
        "outputId": "9ac9cd92-4d1d-44b8-b12b-67ef0dcd9067"
      },
      "outputs": [
        {
          "output_type": "stream",
          "name": "stdout",
          "text": [
            "(466, 8842) (78, 8842)\n",
            "(466, 8842) (466, 8842)\n"
          ]
        }
      ],
      "source": [
        "# SMOTE for imbalance\n",
        "smote_tomek = SMOTETomek(random_state = random_state)\n",
        "train_x_resamp, train_y_resamp = smote_tomek.fit_resample(train_x, train_y)\n",
        "print(train_x[train_y == 0].shape, train_x[train_y == 1].shape)\n",
        "print(train_x_resamp[train_y_resamp == 0].shape, train_x_resamp[train_y_resamp == 1].shape)"
      ]
    },
    {
      "cell_type": "code",
      "source": [
        "sum(train_x_resamp[0] != 0)"
      ],
      "metadata": {
        "colab": {
          "base_uri": "https://localhost:8080/"
        },
        "id": "iq6_hJyR9ZOi",
        "outputId": "ed4ffa20-415e-499b-ec37-fb7b30cfaa2f"
      },
      "execution_count": 10,
      "outputs": [
        {
          "output_type": "execute_result",
          "data": {
            "text/plain": [
              "224"
            ]
          },
          "metadata": {},
          "execution_count": 10
        }
      ]
    },
    {
      "cell_type": "code",
      "source": [
        "sum(train_x_resamp[0] == 0)"
      ],
      "metadata": {
        "colab": {
          "base_uri": "https://localhost:8080/"
        },
        "id": "UQyQ3OoF-gOd",
        "outputId": "dcfb94f0-e4c2-47d5-b754-b04cae636610"
      },
      "execution_count": 11,
      "outputs": [
        {
          "output_type": "execute_result",
          "data": {
            "text/plain": [
              "8618"
            ]
          },
          "metadata": {},
          "execution_count": 11
        }
      ]
    },
    {
      "cell_type": "code",
      "source": [
        "train_y_resamp.shape"
      ],
      "metadata": {
        "colab": {
          "base_uri": "https://localhost:8080/"
        },
        "id": "dKlgWCUgLJIG",
        "outputId": "91600ba8-81e6-47d6-9bd9-ff03ad705f59"
      },
      "execution_count": 55,
      "outputs": [
        {
          "output_type": "execute_result",
          "data": {
            "text/plain": [
              "(932,)"
            ]
          },
          "metadata": {},
          "execution_count": 55
        }
      ]
    },
    {
      "cell_type": "markdown",
      "metadata": {
        "id": "86ygTs2A1FaT"
      },
      "source": [
        "## **Modelling**"
      ]
    },
    {
      "cell_type": "code",
      "execution_count": 6,
      "metadata": {
        "id": "HfS2Db8H1FaW"
      },
      "outputs": [],
      "source": [
        "params = {\n",
        "    'LogisticRegressionCV' : {\n",
        "        'penalty' : ['l2']\n",
        "    },\n",
        "    'SVC' : {\n",
        "        'kernel' : ['linear', 'poly', 'rbf'],\n",
        "        'degree' : [3, 4, 5]\n",
        "    },\n",
        "    'GaussianProcessClassifier' : { # https://stackoverflow.com/questions/62755556/gaussian-process-regression-hyparameter-optimisation-using-python-grid-search\n",
        "            \"kernel\": [RBF(l) for l in np.logspace(-1, 1, 20)]\n",
        "        },\n",
        "    'XGBClassifier' : { # got from some towardsdatascience article i forgot\n",
        "            'gamma': [0,0.1,0.2,0.4,0.8,1.6,3.2,6.4,12.8,25.6,51.2,102.4, 200],\n",
        "            'learning_rate': [0.01, 0.03, 0.06, 0.1, 0.15, 0.2, 0.25, 0.300000012, 0.4, 0.5, 0.6, 0.7],\n",
        "            'max_depth': [5,6,7,8,9,10,11,12,13,14],\n",
        "            'n_estimators': [50,65,80,100,115,130,150],\n",
        "            'reg_alpha': [0,0.1,0.2,0.4,0.8,1.6,3.2,6.4,12.8,25.6,51.2,102.4,200],\n",
        "            'reg_lambda': [0,0.1,0.2,0.4,0.8,1.6,3.2,6.4,12.8,25.6,51.2,102.4,200],\n",
        "            'eval_metric': ['auc'],\n",
        "            'objective': ['binary:logistic']\n",
        "    }\n",
        "}"
      ]
    },
    {
      "cell_type": "code",
      "execution_count": 7,
      "metadata": {
        "id": "dE7gffcX1FaX"
      },
      "outputs": [],
      "source": [
        "def fit(x, y, parameters, n_iter, random_state = 42):\n",
        "    \"\"\"\n",
        "    Randomized hyperparameter tuning for fitting models\n",
        "\n",
        "    parameters:\n",
        "        n_iter -- number of parameter settings sampled\n",
        "    \"\"\"\n",
        "    print(\"Training LogisticRegressionCV:\")\n",
        "    lr = LogisticRegressionCV(max_iter = int(1e6))\n",
        "    rs_lr = RandomizedSearchCV(lr, parameters['LogisticRegressionCV'], n_iter = n_iter, random_state=random_state)\n",
        "    rs_lr.fit(x, y) \n",
        "\n",
        "    print(\"Training SVC:\")\n",
        "    svc = SVC(probability = True)\n",
        "    rs_svc = RandomizedSearchCV(svc, parameters['SVC'], n_iter = n_iter, random_state=random_state)\n",
        "    rs_svc.fit(x, y)\n",
        "\n",
        "    print(\"Training GaussianProcessClassifier:\")\n",
        "    gp = GaussianProcessClassifier()\n",
        "    rs_gp = RandomizedSearchCV(gp, parameters['GaussianProcessClassifier'], n_iter = n_iter, random_state=random_state)\n",
        "    rs_gp.fit(x, y)\n",
        "\n",
        "    print(\"Training XGBClassifier:\")\n",
        "    xgb = XGBClassifier()\n",
        "    rs_xgb = RandomizedSearchCV(xgb, parameters['XGBClassifier'], n_iter = n_iter, random_state=random_state)\n",
        "    rs_xgb.fit(x, y) \n",
        "\n",
        "    models = [rs_lr, rs_svc, rs_gp, rs_xgb]\n",
        "    return models \n"
      ]
    },
    {
      "cell_type": "code",
      "execution_count": 14,
      "metadata": {
        "id": "n5ZYPfL31FaZ",
        "outputId": "caa504f5-615f-4a02-a442-552fd8b9a661",
        "colab": {
          "base_uri": "https://localhost:8080/"
        }
      },
      "outputs": [
        {
          "output_type": "stream",
          "name": "stdout",
          "text": [
            "Training LogisticRegressionCV:\n"
          ]
        },
        {
          "output_type": "stream",
          "name": "stderr",
          "text": [
            "/usr/local/lib/python3.10/dist-packages/sklearn/model_selection/_search.py:305: UserWarning: The total space of parameters 1 is smaller than n_iter=20. Running 1 iterations. For exhaustive searches, use GridSearchCV.\n",
            "  warnings.warn(\n"
          ]
        },
        {
          "output_type": "stream",
          "name": "stdout",
          "text": [
            "Training SVC:\n"
          ]
        },
        {
          "output_type": "stream",
          "name": "stderr",
          "text": [
            "/usr/local/lib/python3.10/dist-packages/sklearn/model_selection/_search.py:305: UserWarning: The total space of parameters 9 is smaller than n_iter=20. Running 9 iterations. For exhaustive searches, use GridSearchCV.\n",
            "  warnings.warn(\n"
          ]
        },
        {
          "output_type": "stream",
          "name": "stdout",
          "text": [
            "Training GaussianProcessClassifier:\n",
            "Training XGBClassifier:\n"
          ]
        }
      ],
      "source": [
        "models = fit(train_x_resamp, train_y_resamp, params, n_iter = 20, random_state = random_state)"
      ]
    },
    {
      "cell_type": "code",
      "execution_count": 15,
      "metadata": {
        "id": "NX46KZTk1Faa",
        "outputId": "d62c9771-a407-4e4b-b6fc-58b7fc110b1e",
        "colab": {
          "base_uri": "https://localhost:8080/"
        }
      },
      "outputs": [
        {
          "output_type": "stream",
          "name": "stdout",
          "text": [
            "LogisticRegressionCV(max_iter=1000000) {'penalty': 'l2'} 0.9935598872980277\n",
            "SVC(kernel='poly', probability=True) {'kernel': 'poly', 'degree': 3} 1.0\n",
            "GaussianProcessClassifier(kernel=RBF(length_scale=0.1)) {'kernel': RBF(length_scale=0.1)} 0.9871427749985624\n",
            "XGBClassifier(base_score=None, booster=None, callbacks=None,\n",
            "              colsample_bylevel=None, colsample_bynode=None,\n",
            "              colsample_bytree=None, early_stopping_rounds=None,\n",
            "              enable_categorical=False, eval_metric='auc', feature_types=None,\n",
            "              gamma=0, gpu_id=None, grow_policy=None, importance_type=None,\n",
            "              interaction_constraints=None, learning_rate=0.1, max_bin=None,\n",
            "              max_cat_threshold=None, max_cat_to_onehot=None,\n",
            "              max_delta_step=None, max_depth=9, max_leaves=None,\n",
            "              min_child_weight=None, missing=nan, monotone_constraints=None,\n",
            "              n_estimators=130, n_jobs=None, num_parallel_tree=None,\n",
            "              predictor=None, random_state=None, ...) {'reg_lambda': 51.2, 'reg_alpha': 0.1, 'objective': 'binary:logistic', 'n_estimators': 130, 'max_depth': 9, 'learning_rate': 0.1, 'gamma': 0, 'eval_metric': 'auc'} 0.9325398194468402\n"
          ]
        }
      ],
      "source": [
        "for model in models:\n",
        "    print(model.best_estimator_, model.best_params_, model.best_score_)"
      ]
    },
    {
      "cell_type": "code",
      "execution_count": 16,
      "metadata": {
        "id": "hX-JYbMT1Faa"
      },
      "outputs": [],
      "source": [
        "def evaluate(x, y, models):\n",
        "    scores = {\n",
        "        'ACC': [], \n",
        "        'AUC': [],\n",
        "        'CMAT': []\n",
        "    }\n",
        "    for model in models:\n",
        "        y_pred = model.predict(x)\n",
        "        y_proba = model.predict_proba(x)[:, 1]\n",
        "        scores['ACC'].append(accuracy_score(y, y_pred))\n",
        "        scores['AUC'].append(roc_auc_score(y, y_proba))\n",
        "        scores['CMAT'].append(confusion_matrix(y, y_pred))\n",
        "        \n",
        "    return scores "
      ]
    },
    {
      "cell_type": "code",
      "execution_count": 17,
      "metadata": {
        "id": "yr1sy6sV1Fac",
        "outputId": "ef1d3250-e3b6-43a7-95ab-1d07a82d9bbc",
        "colab": {
          "base_uri": "https://localhost:8080/"
        }
      },
      "outputs": [
        {
          "output_type": "execute_result",
          "data": {
            "text/plain": [
              "{'ACC': [0.84375, 0.8541666666666666, 0.8541666666666666, 0.84375],\n",
              " 'AUC': [0.7020905923344947,\n",
              "  0.7168989547038327,\n",
              "  0.7134146341463414,\n",
              "  0.6114982578397212],\n",
              " 'CMAT': [array([[81,  1],\n",
              "         [14,  0]]),\n",
              "  array([[82,  0],\n",
              "         [14,  0]]),\n",
              "  array([[82,  0],\n",
              "         [14,  0]]),\n",
              "  array([[81,  1],\n",
              "         [14,  0]])]}"
            ]
          },
          "metadata": {},
          "execution_count": 17
        }
      ],
      "source": [
        "evaluate(test_x, test_y, models)"
      ]
    },
    {
      "cell_type": "markdown",
      "source": [
        "## **word2vec (w/o )**"
      ],
      "metadata": {
        "id": "j2yiyZ9_DsSZ"
      }
    },
    {
      "cell_type": "code",
      "source": [
        "import pandas as pd\n",
        "from gensim.models import Word2Vec\n",
        "from gensim.utils import simple_preprocess"
      ],
      "metadata": {
        "id": "KEJHpg22-Go9"
      },
      "execution_count": 17,
      "outputs": []
    },
    {
      "cell_type": "code",
      "source": [
        "train_processed_text = train_dat['TEXT'].apply(simple_preprocess)"
      ],
      "metadata": {
        "id": "3ajThCS3Eguq"
      },
      "execution_count": 18,
      "outputs": []
    },
    {
      "cell_type": "code",
      "source": [
        "train_processed_text"
      ],
      "metadata": {
        "colab": {
          "base_uri": "https://localhost:8080/"
        },
        "id": "PH_zRLH3nI2I",
        "outputId": "b2dcc8ca-fea8-46a2-bde6-b7aa032d2582"
      },
      "execution_count": 33,
      "outputs": [
        {
          "output_type": "execute_result",
          "data": {
            "text/plain": [
              "230    [micu, admission, note, please, see, fhp, for,...\n",
              "505    [title, this, is, age, over, year, old, with, ...\n",
              "353    [resp, care, pt, received, from, ed, on, niv, ...\n",
              "339    [admit, note, pt, presented, to, ed, with, dys...\n",
              "612    [pt, remaines, on, points, restrainsd, agitati...\n",
              "                             ...                        \n",
              "123    [cva, with, right, sided, hemiparesisr, htn, a...\n",
              "244    [micu, nursing, progress, note, briefly, this,...\n",
              "161    [mrs, known, lastname, is, an, yo, woman, with...\n",
              "168    [with, pmh, of, cad, distant, mi, cabg, chroni...\n",
              "9      [sicu, nursing, admission, progress, note, mrs...\n",
              "Name: TEXT, Length: 544, dtype: object"
            ]
          },
          "metadata": {},
          "execution_count": 33
        }
      ]
    },
    {
      "cell_type": "markdown",
      "source": [
        "### Model with vector_size = 200:"
      ],
      "metadata": {
        "id": "JFcxEK69n29S"
      }
    },
    {
      "cell_type": "code",
      "source": [
        "word2vec_model = Word2Vec(sentences = train_processed_text, vector_size = 200, window = 5, min_count = 1)"
      ],
      "metadata": {
        "id": "8_jPNPkiF6VE"
      },
      "execution_count": 35,
      "outputs": []
    },
    {
      "cell_type": "code",
      "source": [
        "def document_vector(doc, model):\n",
        "    doc_vector = []\n",
        "    num_words = 0\n",
        "    for word in doc:\n",
        "        if word in model.wv:\n",
        "            doc_vector.append(model.wv[word])\n",
        "            num_words += 1\n",
        "    if num_words > 0:\n",
        "        doc_vector = np.mean(doc_vector, axis=0)\n",
        "    else:\n",
        "        doc_vector = np.zeros(model.vector_size)\n",
        "    return doc_vector"
      ],
      "metadata": {
        "id": "Zw0aMMBpHaRk"
      },
      "execution_count": 36,
      "outputs": []
    },
    {
      "cell_type": "code",
      "source": [
        "train_word2vec_repr = train_processed_text.apply(lambda x: document_vector(x, word2vec_model))"
      ],
      "metadata": {
        "id": "11ZPICrCH8RY"
      },
      "execution_count": 37,
      "outputs": []
    },
    {
      "cell_type": "code",
      "source": [
        "train_repr = np.vstack(train_word2vec_repr)"
      ],
      "metadata": {
        "id": "w2t6sKcFIJMe"
      },
      "execution_count": 38,
      "outputs": []
    },
    {
      "cell_type": "code",
      "source": [
        "word2vec_models = fit(train_repr, train_y, params, n_iter = 20, random_state = random_state)"
      ],
      "metadata": {
        "id": "PcYvZdf-J921"
      },
      "execution_count": null,
      "outputs": []
    },
    {
      "cell_type": "code",
      "source": [
        "for model in word2vec_models:\n",
        "    print(model.best_estimator_, model.best_params_, model.best_score_)"
      ],
      "metadata": {
        "colab": {
          "base_uri": "https://localhost:8080/"
        },
        "id": "pCmwRODrKIDZ",
        "outputId": "9c27af34-f807-42bd-8dff-e99c6603269c"
      },
      "execution_count": 69,
      "outputs": [
        {
          "output_type": "stream",
          "name": "stdout",
          "text": [
            "LogisticRegressionCV(max_iter=1000000) {'penalty': 'l2'} 0.8566258919469929\n",
            "SVC(kernel='linear', probability=True) {'kernel': 'linear', 'degree': 3} 0.8566258919469929\n",
            "GaussianProcessClassifier(kernel=RBF(length_scale=0.1)) {'kernel': RBF(length_scale=0.1)} 0.8566258919469929\n",
            "XGBClassifier(base_score=None, booster=None, callbacks=None,\n",
            "              colsample_bylevel=None, colsample_bynode=None,\n",
            "              colsample_bytree=None, early_stopping_rounds=None,\n",
            "              enable_categorical=False, eval_metric='auc', feature_types=None,\n",
            "              gamma=0, gpu_id=None, grow_policy=None, importance_type=None,\n",
            "              interaction_constraints=None, learning_rate=0.6, max_bin=None,\n",
            "              max_cat_threshold=None, max_cat_to_onehot=None,\n",
            "              max_delta_step=None, max_depth=8, max_leaves=None,\n",
            "              min_child_weight=None, missing=nan, monotone_constraints=None,\n",
            "              n_estimators=50, n_jobs=None, num_parallel_tree=None,\n",
            "              predictor=None, random_state=None, ...) {'reg_lambda': 1.6, 'reg_alpha': 12.8, 'objective': 'binary:logistic', 'n_estimators': 50, 'max_depth': 8, 'learning_rate': 0.6, 'gamma': 0, 'eval_metric': 'auc'} 0.8566258919469929\n"
          ]
        }
      ]
    },
    {
      "cell_type": "code",
      "source": [
        "test_processed_text = test_dat['TEXT'].apply(simple_preprocess)"
      ],
      "metadata": {
        "id": "SIWyBg0MTELT"
      },
      "execution_count": 65,
      "outputs": []
    },
    {
      "cell_type": "code",
      "source": [
        "test_word2vec_repr = test_processed_text.apply(lambda x: document_vector(x, word2vec_model))"
      ],
      "metadata": {
        "id": "qbz743b7U1Ut"
      },
      "execution_count": 66,
      "outputs": []
    },
    {
      "cell_type": "code",
      "source": [
        "test_repr = np.vstack(test_word2vec_repr)"
      ],
      "metadata": {
        "id": "KUBWrpbHU7nj"
      },
      "execution_count": 67,
      "outputs": []
    },
    {
      "cell_type": "code",
      "source": [
        "evaluate(test_repr, test_y, word2vec_models)"
      ],
      "metadata": {
        "colab": {
          "base_uri": "https://localhost:8080/"
        },
        "id": "XJ-zFNG5U-0B",
        "outputId": "bb15f763-e43d-41b2-b141-e65c5742081d"
      },
      "execution_count": 73,
      "outputs": [
        {
          "output_type": "execute_result",
          "data": {
            "text/plain": [
              "{'ACC': [0.8541666666666666,\n",
              "  0.8541666666666666,\n",
              "  0.8541666666666666,\n",
              "  0.8541666666666666],\n",
              " 'AUC': [0.4878048780487805,\n",
              "  0.6498257839721254,\n",
              "  0.4891114982578397,\n",
              "  0.4420731707317073],\n",
              " 'CMAT': [array([[82,  0],\n",
              "         [14,  0]]),\n",
              "  array([[82,  0],\n",
              "         [14,  0]]),\n",
              "  array([[82,  0],\n",
              "         [14,  0]]),\n",
              "  array([[82,  0],\n",
              "         [14,  0]])]}"
            ]
          },
          "metadata": {},
          "execution_count": 73
        }
      ]
    },
    {
      "cell_type": "markdown",
      "source": [
        "## **word2vec (w/ Imbalance Treatment)**"
      ],
      "metadata": {
        "id": "H5wd8MjndsuT"
      }
    },
    {
      "cell_type": "code",
      "source": [
        "import numpy as np\n",
        "from imblearn.over_sampling import RandomOverSampler\n",
        "from imblearn.under_sampling import RandomUnderSampler\n",
        "from imblearn.pipeline import Pipeline"
      ],
      "metadata": {
        "id": "ptE6Ctempbp4"
      },
      "execution_count": 46,
      "outputs": []
    },
    {
      "cell_type": "code",
      "source": [
        "under_sampling_strategy = 0.2\n",
        "over_sampling_strategy = 1.0\n",
        "\n",
        "resampling_pipeline = Pipeline([\n",
        "    ('under', RandomUnderSampler(sampling_strategy=under_sampling_strategy)),\n",
        "    ('over', RandomOverSampler(sampling_strategy=over_sampling_strategy))\n",
        "])"
      ],
      "metadata": {
        "id": "3Z3Iu8aZpe9X"
      },
      "execution_count": 60,
      "outputs": []
    },
    {
      "cell_type": "code",
      "source": [
        "train_repr_resamp, train_y_resamp = resampling_pipeline.fit_resample(np.array(train_repr), np.array(train_y))"
      ],
      "metadata": {
        "id": "6UX0dAcFprR0"
      },
      "execution_count": 61,
      "outputs": []
    },
    {
      "cell_type": "code",
      "source": [
        "print(train_repr_resamp[train_y_resamp == 0].shape, train_repr_resamp[train_y_resamp == 1].shape)"
      ],
      "metadata": {
        "colab": {
          "base_uri": "https://localhost:8080/"
        },
        "id": "U0HytPI7oIuE",
        "outputId": "57368c3e-0c1c-4030-fcd1-c20ff8345352"
      },
      "execution_count": 62,
      "outputs": [
        {
          "output_type": "stream",
          "name": "stdout",
          "text": [
            "(390, 200) (390, 200)\n"
          ]
        }
      ]
    },
    {
      "cell_type": "code",
      "source": [
        "word2vec_models_smote = fit(train_repr_resamp, train_y_resamp, params, n_iter = 30, random_state = random_state)"
      ],
      "metadata": {
        "id": "wnXHFZkMoEJv"
      },
      "execution_count": null,
      "outputs": []
    },
    {
      "cell_type": "code",
      "source": [
        "evaluate(test_repr, test_y, word2vec_models_smote)"
      ],
      "metadata": {
        "colab": {
          "base_uri": "https://localhost:8080/"
        },
        "id": "Oj0aVLOUjBjp",
        "outputId": "49cbe03d-8ad7-428f-9f20-8f5211732cea"
      },
      "execution_count": 68,
      "outputs": [
        {
          "output_type": "execute_result",
          "data": {
            "text/plain": [
              "{'ACC': [0.6666666666666666,\n",
              "  0.5833333333333334,\n",
              "  0.8541666666666666,\n",
              "  0.8020833333333334],\n",
              " 'AUC': [0.6428571428571428, 0.4930313588850174, 0.5, 0.5487804878048781],\n",
              " 'CMAT': [array([[58, 24],\n",
              "         [ 8,  6]]),\n",
              "  array([[49, 33],\n",
              "         [ 7,  7]]),\n",
              "  array([[82,  0],\n",
              "         [14,  0]]),\n",
              "  array([[76,  6],\n",
              "         [13,  1]])]}"
            ]
          },
          "metadata": {},
          "execution_count": 68
        }
      ]
    },
    {
      "cell_type": "markdown",
      "source": [
        "### try penalization"
      ],
      "metadata": {
        "id": "d5Wx-zGStI_0"
      }
    },
    {
      "cell_type": "code",
      "source": [
        "from sklearn.metrics import make_scorer, confusion_matrix\n",
        "\n",
        "def custom_scorer(y_true, y_pred):\n",
        "    cm = confusion_matrix(y_true, y_pred)\n",
        "    tn, fp, fn, tp = cm.ravel()\n",
        "    \n",
        "    # Adjust the weight according to your preference\n",
        "    false_negative_weight = 5\n",
        "    \n",
        "    score = tp - false_negative_weight * fn\n",
        "    return score\n",
        "  \n",
        "custom_scorer = make_scorer(custom_scorer, greater_is_better=True)"
      ],
      "metadata": {
        "id": "MTj8ZuL3t9Qg"
      },
      "execution_count": 74,
      "outputs": []
    },
    {
      "cell_type": "code",
      "source": [
        "def fit_penalized(x, y, parameters, n_iter, random_state = 42):\n",
        "    print(\"Training GaussianProcessClassifier:\")\n",
        "    gp = GaussianProcessClassifier()\n",
        "    rs_gp = RandomizedSearchCV(gp, parameters['GaussianProcessClassifier'], n_iter = n_iter, random_state=random_state, scoring=custom_scorer)\n",
        "    rs_gp.fit(x, y)\n",
        "\n",
        "    print(\"Training XGBClassifier:\")\n",
        "    xgb = XGBClassifier()\n",
        "    parameters['XGBClassifier']['scale_pos_weight'] = [5] \n",
        "    rs_xgb = RandomizedSearchCV(xgb, parameters['XGBClassifier'], n_iter = n_iter, random_state=random_state)\n",
        "    rs_xgb.fit(x, y) \n",
        "\n",
        "    models = [rs_gp, rs_xgb]\n",
        "    return models "
      ],
      "metadata": {
        "id": "ktQvZkA8tXc0"
      },
      "execution_count": 75,
      "outputs": []
    },
    {
      "cell_type": "code",
      "source": [
        "word2vec_models_smote = fit_penalized(train_repr_resamp, train_y_resamp, params, n_iter = 30, random_state = random_state)"
      ],
      "metadata": {
        "id": "lL8JNj1etSfD"
      },
      "execution_count": null,
      "outputs": []
    },
    {
      "cell_type": "code",
      "source": [
        "evaluate(test_repr, test_y, word2vec_models_smote)"
      ],
      "metadata": {
        "colab": {
          "base_uri": "https://localhost:8080/"
        },
        "id": "XUcbnQL4uuF1",
        "outputId": "eed3e0f2-3e2c-4ea8-f017-d1cba6690d6f"
      },
      "execution_count": 78,
      "outputs": [
        {
          "output_type": "execute_result",
          "data": {
            "text/plain": [
              "{'ACC': [0.8541666666666666, 0.8020833333333334],\n",
              " 'AUC': [0.5, 0.6202090592334495],\n",
              " 'CMAT': [array([[82,  0],\n",
              "         [14,  0]]),\n",
              "  array([[75,  7],\n",
              "         [12,  2]])]}"
            ]
          },
          "metadata": {},
          "execution_count": 78
        }
      ]
    }
  ],
  "metadata": {
    "kernelspec": {
      "display_name": "bst263_final",
      "language": "python",
      "name": "python3"
    },
    "language_info": {
      "codemirror_mode": {
        "name": "ipython",
        "version": 3
      },
      "file_extension": ".py",
      "mimetype": "text/x-python",
      "name": "python",
      "nbconvert_exporter": "python",
      "pygments_lexer": "ipython3",
      "version": "3.9.16"
    },
    "orig_nbformat": 4,
    "colab": {
      "provenance": []
    }
  },
  "nbformat": 4,
  "nbformat_minor": 0
}