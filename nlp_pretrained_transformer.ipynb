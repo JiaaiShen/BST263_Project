{
  "cells": [
    {
      "cell_type": "markdown",
      "metadata": {
        "id": "NWCIKmTo1FaA"
      },
      "source": [
        "## **Dependencies**"
      ]
    },
    {
      "cell_type": "code",
      "execution_count": 1,
      "metadata": {
        "id": "UYnhpNlj1FaE"
      },
      "outputs": [],
      "source": [
        "import numpy as np \n",
        "import pandas as pd\n",
        "import matplotlib.pyplot as plt\n",
        "\n",
        "from sklearn.impute import SimpleImputer\n",
        "from sklearn.preprocessing import StandardScaler\n",
        "from sklearn.feature_extraction.text import TfidfVectorizer\n",
        "from sklearn.model_selection import train_test_split, RandomizedSearchCV\n",
        "from sklearn.linear_model import LogisticRegressionCV\n",
        "from sklearn.svm import SVC \n",
        "from sklearn.gaussian_process import GaussianProcessClassifier\n",
        "from sklearn.gaussian_process.kernels import RBF, DotProduct\n",
        "from sklearn.pipeline import Pipeline\n",
        "from sklearn.metrics import roc_auc_score, accuracy_score, confusion_matrix\n",
        "\n",
        "from xgboost import XGBClassifier\n",
        "\n",
        "from imblearn.combine import SMOTETomek # because our data is unbalanced\n",
        "\n",
        "random_state = 42\n",
        "np.random.seed(random_state)\n"
      ]
    },
    {
      "cell_type": "markdown",
      "metadata": {
        "id": "RFocurx_1FaG"
      },
      "source": [
        "## **Data Processing**"
      ]
    },
    {
      "cell_type": "code",
      "source": [
        "from google.colab import drive\n",
        "drive.mount('/content/drive')\n",
        "\n",
        "import os\n",
        "os.chdir('/content/drive/MyDrive')"
      ],
      "metadata": {
        "colab": {
          "base_uri": "https://localhost:8080/"
        },
        "id": "JNQloHvy1vA5",
        "outputId": "ee4ccf1e-7dcc-4e53-db7f-fb42b9804142"
      },
      "execution_count": 2,
      "outputs": [
        {
          "output_type": "stream",
          "name": "stdout",
          "text": [
            "Mounted at /content/drive\n"
          ]
        }
      ]
    },
    {
      "cell_type": "code",
      "execution_count": 3,
      "metadata": {
        "id": "pWiQZfX91FaG"
      },
      "outputs": [],
      "source": [
        "dat_nurse = pd.read_csv('./prepared_641.csv')"
      ]
    },
    {
      "cell_type": "code",
      "source": [
        "dat_nurse.head()"
      ],
      "metadata": {
        "colab": {
          "base_uri": "https://localhost:8080/",
          "height": 647
        },
        "id": "2prsCsLZ2Nh7",
        "outputId": "ca88b020-4276-4cd2-871c-cca5910ddfe5"
      },
      "execution_count": 4,
      "outputs": [
        {
          "output_type": "execute_result",
          "data": {
            "text/plain": [
              "   HADM_ID  group      ID  outcome  age  gendera        BMI  hypertensive  \\\n",
              "0   100571      1  100571      0.0   67        1  32.284350             1   \n",
              "1   100660      1  100660      0.0   75        1        NaN             1   \n",
              "2   100753      1  100753      0.0   52        2  21.788538             0   \n",
              "3   100908      2  100908      0.0   89        1  28.646298             1   \n",
              "4   101197      1  101197      1.0   89        2  26.209730             0   \n",
              "\n",
              "   atrialfibrillation  CHD with no MI  ...   ROW_ID  SUBJECT_ID   CHARTDATE  \\\n",
              "0                   0               0  ...   656364       99008  2173-02-20   \n",
              "1                   0               0  ...  1269150         631  2124-01-23   \n",
              "2                   0               0  ...  1270324         720  2160-05-04   \n",
              "3                   0               0  ...  1621829       27504  2113-01-02   \n",
              "4                   1               0  ...  1310787        3771  2190-12-12   \n",
              "\n",
              "             CHARTTIME            STORETIME       CATEGORY  \\\n",
              "0  2173-02-20 06:44:00  2173-02-20 06:44:48        Nursing   \n",
              "1  2124-01-23 14:03:00  2124-01-23 14:07:00  Nursing/other   \n",
              "2  2160-05-04 19:09:00  2160-05-04 19:22:00  Nursing/other   \n",
              "3  2113-01-02 06:31:00  2113-01-02 06:46:00  Nursing/other   \n",
              "4  2190-12-12 16:35:00  2190-12-12 16:37:00  Nursing/other   \n",
              "\n",
              "             DESCRIPTION     CGID  ISERROR  \\\n",
              "0  Nursing Progress Note  18928.0      NaN   \n",
              "1                 Report  15597.0      NaN   \n",
              "2                 Report  15055.0      NaN   \n",
              "3                 Report  15746.0      NaN   \n",
              "4                 Report  20290.0      NaN   \n",
              "\n",
              "                                                TEXT  \n",
              "0  Hypotension (not Shock)\\n   Assessment:\\n   Hy...  \n",
              "1  Respiratory Care:\\npt extubated to a 40% cool ...  \n",
              "2  NSG ADMISSION NOTE\\nMs. [**Name13 (STitle) 304...  \n",
              "3  ccu npn\\n\\n[**Age over 90 **] yr old male pmh:...  \n",
              "4  Respiratory Care Note\\nPt received from PACU i...  \n",
              "\n",
              "[5 rows x 62 columns]"
            ],
            "text/html": [
              "\n",
              "  <div id=\"df-5fddb4c1-d3f2-432d-8344-c29efe25f072\">\n",
              "    <div class=\"colab-df-container\">\n",
              "      <div>\n",
              "<style scoped>\n",
              "    .dataframe tbody tr th:only-of-type {\n",
              "        vertical-align: middle;\n",
              "    }\n",
              "\n",
              "    .dataframe tbody tr th {\n",
              "        vertical-align: top;\n",
              "    }\n",
              "\n",
              "    .dataframe thead th {\n",
              "        text-align: right;\n",
              "    }\n",
              "</style>\n",
              "<table border=\"1\" class=\"dataframe\">\n",
              "  <thead>\n",
              "    <tr style=\"text-align: right;\">\n",
              "      <th></th>\n",
              "      <th>HADM_ID</th>\n",
              "      <th>group</th>\n",
              "      <th>ID</th>\n",
              "      <th>outcome</th>\n",
              "      <th>age</th>\n",
              "      <th>gendera</th>\n",
              "      <th>BMI</th>\n",
              "      <th>hypertensive</th>\n",
              "      <th>atrialfibrillation</th>\n",
              "      <th>CHD with no MI</th>\n",
              "      <th>...</th>\n",
              "      <th>ROW_ID</th>\n",
              "      <th>SUBJECT_ID</th>\n",
              "      <th>CHARTDATE</th>\n",
              "      <th>CHARTTIME</th>\n",
              "      <th>STORETIME</th>\n",
              "      <th>CATEGORY</th>\n",
              "      <th>DESCRIPTION</th>\n",
              "      <th>CGID</th>\n",
              "      <th>ISERROR</th>\n",
              "      <th>TEXT</th>\n",
              "    </tr>\n",
              "  </thead>\n",
              "  <tbody>\n",
              "    <tr>\n",
              "      <th>0</th>\n",
              "      <td>100571</td>\n",
              "      <td>1</td>\n",
              "      <td>100571</td>\n",
              "      <td>0.0</td>\n",
              "      <td>67</td>\n",
              "      <td>1</td>\n",
              "      <td>32.284350</td>\n",
              "      <td>1</td>\n",
              "      <td>0</td>\n",
              "      <td>0</td>\n",
              "      <td>...</td>\n",
              "      <td>656364</td>\n",
              "      <td>99008</td>\n",
              "      <td>2173-02-20</td>\n",
              "      <td>2173-02-20 06:44:00</td>\n",
              "      <td>2173-02-20 06:44:48</td>\n",
              "      <td>Nursing</td>\n",
              "      <td>Nursing Progress Note</td>\n",
              "      <td>18928.0</td>\n",
              "      <td>NaN</td>\n",
              "      <td>Hypotension (not Shock)\\n   Assessment:\\n   Hy...</td>\n",
              "    </tr>\n",
              "    <tr>\n",
              "      <th>1</th>\n",
              "      <td>100660</td>\n",
              "      <td>1</td>\n",
              "      <td>100660</td>\n",
              "      <td>0.0</td>\n",
              "      <td>75</td>\n",
              "      <td>1</td>\n",
              "      <td>NaN</td>\n",
              "      <td>1</td>\n",
              "      <td>0</td>\n",
              "      <td>0</td>\n",
              "      <td>...</td>\n",
              "      <td>1269150</td>\n",
              "      <td>631</td>\n",
              "      <td>2124-01-23</td>\n",
              "      <td>2124-01-23 14:03:00</td>\n",
              "      <td>2124-01-23 14:07:00</td>\n",
              "      <td>Nursing/other</td>\n",
              "      <td>Report</td>\n",
              "      <td>15597.0</td>\n",
              "      <td>NaN</td>\n",
              "      <td>Respiratory Care:\\npt extubated to a 40% cool ...</td>\n",
              "    </tr>\n",
              "    <tr>\n",
              "      <th>2</th>\n",
              "      <td>100753</td>\n",
              "      <td>1</td>\n",
              "      <td>100753</td>\n",
              "      <td>0.0</td>\n",
              "      <td>52</td>\n",
              "      <td>2</td>\n",
              "      <td>21.788538</td>\n",
              "      <td>0</td>\n",
              "      <td>0</td>\n",
              "      <td>0</td>\n",
              "      <td>...</td>\n",
              "      <td>1270324</td>\n",
              "      <td>720</td>\n",
              "      <td>2160-05-04</td>\n",
              "      <td>2160-05-04 19:09:00</td>\n",
              "      <td>2160-05-04 19:22:00</td>\n",
              "      <td>Nursing/other</td>\n",
              "      <td>Report</td>\n",
              "      <td>15055.0</td>\n",
              "      <td>NaN</td>\n",
              "      <td>NSG ADMISSION NOTE\\nMs. [**Name13 (STitle) 304...</td>\n",
              "    </tr>\n",
              "    <tr>\n",
              "      <th>3</th>\n",
              "      <td>100908</td>\n",
              "      <td>2</td>\n",
              "      <td>100908</td>\n",
              "      <td>0.0</td>\n",
              "      <td>89</td>\n",
              "      <td>1</td>\n",
              "      <td>28.646298</td>\n",
              "      <td>1</td>\n",
              "      <td>0</td>\n",
              "      <td>0</td>\n",
              "      <td>...</td>\n",
              "      <td>1621829</td>\n",
              "      <td>27504</td>\n",
              "      <td>2113-01-02</td>\n",
              "      <td>2113-01-02 06:31:00</td>\n",
              "      <td>2113-01-02 06:46:00</td>\n",
              "      <td>Nursing/other</td>\n",
              "      <td>Report</td>\n",
              "      <td>15746.0</td>\n",
              "      <td>NaN</td>\n",
              "      <td>ccu npn\\n\\n[**Age over 90 **] yr old male pmh:...</td>\n",
              "    </tr>\n",
              "    <tr>\n",
              "      <th>4</th>\n",
              "      <td>101197</td>\n",
              "      <td>1</td>\n",
              "      <td>101197</td>\n",
              "      <td>1.0</td>\n",
              "      <td>89</td>\n",
              "      <td>2</td>\n",
              "      <td>26.209730</td>\n",
              "      <td>0</td>\n",
              "      <td>1</td>\n",
              "      <td>0</td>\n",
              "      <td>...</td>\n",
              "      <td>1310787</td>\n",
              "      <td>3771</td>\n",
              "      <td>2190-12-12</td>\n",
              "      <td>2190-12-12 16:35:00</td>\n",
              "      <td>2190-12-12 16:37:00</td>\n",
              "      <td>Nursing/other</td>\n",
              "      <td>Report</td>\n",
              "      <td>20290.0</td>\n",
              "      <td>NaN</td>\n",
              "      <td>Respiratory Care Note\\nPt received from PACU i...</td>\n",
              "    </tr>\n",
              "  </tbody>\n",
              "</table>\n",
              "<p>5 rows × 62 columns</p>\n",
              "</div>\n",
              "      <button class=\"colab-df-convert\" onclick=\"convertToInteractive('df-5fddb4c1-d3f2-432d-8344-c29efe25f072')\"\n",
              "              title=\"Convert this dataframe to an interactive table.\"\n",
              "              style=\"display:none;\">\n",
              "        \n",
              "  <svg xmlns=\"http://www.w3.org/2000/svg\" height=\"24px\"viewBox=\"0 0 24 24\"\n",
              "       width=\"24px\">\n",
              "    <path d=\"M0 0h24v24H0V0z\" fill=\"none\"/>\n",
              "    <path d=\"M18.56 5.44l.94 2.06.94-2.06 2.06-.94-2.06-.94-.94-2.06-.94 2.06-2.06.94zm-11 1L8.5 8.5l.94-2.06 2.06-.94-2.06-.94L8.5 2.5l-.94 2.06-2.06.94zm10 10l.94 2.06.94-2.06 2.06-.94-2.06-.94-.94-2.06-.94 2.06-2.06.94z\"/><path d=\"M17.41 7.96l-1.37-1.37c-.4-.4-.92-.59-1.43-.59-.52 0-1.04.2-1.43.59L10.3 9.45l-7.72 7.72c-.78.78-.78 2.05 0 2.83L4 21.41c.39.39.9.59 1.41.59.51 0 1.02-.2 1.41-.59l7.78-7.78 2.81-2.81c.8-.78.8-2.07 0-2.86zM5.41 20L4 18.59l7.72-7.72 1.47 1.35L5.41 20z\"/>\n",
              "  </svg>\n",
              "      </button>\n",
              "      \n",
              "  <style>\n",
              "    .colab-df-container {\n",
              "      display:flex;\n",
              "      flex-wrap:wrap;\n",
              "      gap: 12px;\n",
              "    }\n",
              "\n",
              "    .colab-df-convert {\n",
              "      background-color: #E8F0FE;\n",
              "      border: none;\n",
              "      border-radius: 50%;\n",
              "      cursor: pointer;\n",
              "      display: none;\n",
              "      fill: #1967D2;\n",
              "      height: 32px;\n",
              "      padding: 0 0 0 0;\n",
              "      width: 32px;\n",
              "    }\n",
              "\n",
              "    .colab-df-convert:hover {\n",
              "      background-color: #E2EBFA;\n",
              "      box-shadow: 0px 1px 2px rgba(60, 64, 67, 0.3), 0px 1px 3px 1px rgba(60, 64, 67, 0.15);\n",
              "      fill: #174EA6;\n",
              "    }\n",
              "\n",
              "    [theme=dark] .colab-df-convert {\n",
              "      background-color: #3B4455;\n",
              "      fill: #D2E3FC;\n",
              "    }\n",
              "\n",
              "    [theme=dark] .colab-df-convert:hover {\n",
              "      background-color: #434B5C;\n",
              "      box-shadow: 0px 1px 3px 1px rgba(0, 0, 0, 0.15);\n",
              "      filter: drop-shadow(0px 1px 2px rgba(0, 0, 0, 0.3));\n",
              "      fill: #FFFFFF;\n",
              "    }\n",
              "  </style>\n",
              "\n",
              "      <script>\n",
              "        const buttonEl =\n",
              "          document.querySelector('#df-5fddb4c1-d3f2-432d-8344-c29efe25f072 button.colab-df-convert');\n",
              "        buttonEl.style.display =\n",
              "          google.colab.kernel.accessAllowed ? 'block' : 'none';\n",
              "\n",
              "        async function convertToInteractive(key) {\n",
              "          const element = document.querySelector('#df-5fddb4c1-d3f2-432d-8344-c29efe25f072');\n",
              "          const dataTable =\n",
              "            await google.colab.kernel.invokeFunction('convertToInteractive',\n",
              "                                                     [key], {});\n",
              "          if (!dataTable) return;\n",
              "\n",
              "          const docLinkHtml = 'Like what you see? Visit the ' +\n",
              "            '<a target=\"_blank\" href=https://colab.research.google.com/notebooks/data_table.ipynb>data table notebook</a>'\n",
              "            + ' to learn more about interactive tables.';\n",
              "          element.innerHTML = '';\n",
              "          dataTable['output_type'] = 'display_data';\n",
              "          await google.colab.output.renderOutput(dataTable, element);\n",
              "          const docLink = document.createElement('div');\n",
              "          docLink.innerHTML = docLinkHtml;\n",
              "          element.appendChild(docLink);\n",
              "        }\n",
              "      </script>\n",
              "    </div>\n",
              "  </div>\n",
              "  "
            ]
          },
          "metadata": {},
          "execution_count": 4
        }
      ]
    },
    {
      "cell_type": "code",
      "execution_count": 5,
      "metadata": {
        "colab": {
          "base_uri": "https://localhost:8080/"
        },
        "id": "OGJaLTK_1FaH",
        "outputId": "fd39cab6-7736-42e5-fee2-88c57c4b47f6"
      },
      "outputs": [
        {
          "output_type": "stream",
          "name": "stdout",
          "text": [
            "<class 'pandas.core.frame.DataFrame'>\n",
            "RangeIndex: 641 entries, 0 to 640\n",
            "Data columns (total 62 columns):\n",
            " #   Column                    Non-Null Count  Dtype  \n",
            "---  ------                    --------------  -----  \n",
            " 0   HADM_ID                   641 non-null    int64  \n",
            " 1   group                     641 non-null    int64  \n",
            " 2   ID                        641 non-null    int64  \n",
            " 3   outcome                   640 non-null    float64\n",
            " 4   age                       641 non-null    int64  \n",
            " 5   gendera                   641 non-null    int64  \n",
            " 6   BMI                       514 non-null    float64\n",
            " 7   hypertensive              641 non-null    int64  \n",
            " 8   atrialfibrillation        641 non-null    int64  \n",
            " 9   CHD with no MI            641 non-null    int64  \n",
            " 10  diabetes                  641 non-null    int64  \n",
            " 11  deficiencyanemias         641 non-null    int64  \n",
            " 12  depression                641 non-null    int64  \n",
            " 13  Hyperlipemia              641 non-null    int64  \n",
            " 14  Renal failure             641 non-null    int64  \n",
            " 15  COPD                      641 non-null    int64  \n",
            " 16  heart rate                633 non-null    float64\n",
            " 17  Systolic blood pressure   633 non-null    float64\n",
            " 18  Diastolic blood pressure  633 non-null    float64\n",
            " 19  Respiratory rate          633 non-null    float64\n",
            " 20  temperature               633 non-null    float64\n",
            " 21  SP O2                     633 non-null    float64\n",
            " 22  Urine output              619 non-null    float64\n",
            " 23  hematocrit                641 non-null    float64\n",
            " 24  RBC                       641 non-null    float64\n",
            " 25  MCH                       641 non-null    float64\n",
            " 26  MCHC                      641 non-null    float64\n",
            " 27  MCV                       641 non-null    float64\n",
            " 28  RDW                       641 non-null    float64\n",
            " 29  Leucocyte                 641 non-null    float64\n",
            " 30  Platelets                 641 non-null    float64\n",
            " 31  Neutrophils               564 non-null    float64\n",
            " 32  Basophils                 494 non-null    float64\n",
            " 33  Lymphocyte                564 non-null    float64\n",
            " 34  PT                        629 non-null    float64\n",
            " 35  INR                       629 non-null    float64\n",
            " 36  NT-proBNP                 641 non-null    float64\n",
            " 37  Creatine kinase           582 non-null    float64\n",
            " 38  Creatinine                641 non-null    float64\n",
            " 39  Urea nitrogen             641 non-null    float64\n",
            " 40  glucose                   631 non-null    float64\n",
            " 41  Blood potassium           641 non-null    float64\n",
            " 42  Blood sodium              641 non-null    float64\n",
            " 43  Blood calcium             641 non-null    float64\n",
            " 44  Chloride                  641 non-null    float64\n",
            " 45  Anion gap                 641 non-null    float64\n",
            " 46  Magnesium ion             641 non-null    float64\n",
            " 47  PH                        487 non-null    float64\n",
            " 48  Bicarbonate               641 non-null    float64\n",
            " 49  Lactic acid               501 non-null    float64\n",
            " 50  PCO2                      490 non-null    float64\n",
            " 51  EF                        641 non-null    int64  \n",
            " 52  ROW_ID                    641 non-null    int64  \n",
            " 53  SUBJECT_ID                641 non-null    int64  \n",
            " 54  CHARTDATE                 641 non-null    object \n",
            " 55  CHARTTIME                 641 non-null    object \n",
            " 56  STORETIME                 641 non-null    object \n",
            " 57  CATEGORY                  641 non-null    object \n",
            " 58  DESCRIPTION               641 non-null    object \n",
            " 59  CGID                      641 non-null    float64\n",
            " 60  ISERROR                   16 non-null     float64\n",
            " 61  TEXT                      641 non-null    object \n",
            "dtypes: float64(39), int64(17), object(6)\n",
            "memory usage: 310.6+ KB\n"
          ]
        }
      ],
      "source": [
        "dat_nurse.info()"
      ]
    },
    {
      "cell_type": "code",
      "execution_count": 6,
      "metadata": {
        "colab": {
          "base_uri": "https://localhost:8080/",
          "height": 484
        },
        "id": "-urxzV5e1FaI",
        "outputId": "f1abd6e2-0cff-4396-cbf9-55d613a83883"
      },
      "outputs": [
        {
          "output_type": "execute_result",
          "data": {
            "text/plain": [
              "(array([548.,   0.,   0.,   0.,   0.,   0.,   0.,   0.,   0.,  92.]),\n",
              " array([0. , 0.1, 0.2, 0.3, 0.4, 0.5, 0.6, 0.7, 0.8, 0.9, 1. ]),\n",
              " <BarContainer object of 10 artists>)"
            ]
          },
          "metadata": {},
          "execution_count": 6
        },
        {
          "output_type": "display_data",
          "data": {
            "text/plain": [
              "<Figure size 640x480 with 1 Axes>"
            ],
            "image/png": "[encoded data removed]"
          },
          "metadata": {}
        }
      ],
      "source": [
        "plt.hist(dat_nurse['outcome'])"
      ]
    },
    {
      "cell_type": "code",
      "execution_count": 7,
      "metadata": {
        "id": "D1TQCdIt1FaJ"
      },
      "outputs": [],
      "source": [
        "# drop na (outcome na)\n",
        "dat_nurse = dat_nurse[dat_nurse['outcome'].notnull()]\n",
        "# train-test-split\n",
        "train_dat, test_dat = train_test_split(dat_nurse, test_size = 0.15,  stratify=dat_nurse['outcome'], random_state=random_state)\n",
        "# val_dat, test_dat = train_test_split(test_dat, test_size = 0.5, stratify=test_dat['outcome'], random_state=random_state)"
      ]
    },
    {
      "cell_type": "code",
      "execution_count": 8,
      "metadata": {
        "id": "E8WH_VyW1FaJ"
      },
      "outputs": [],
      "source": [
        "# organizing data\n",
        "clin_col = train_dat.columns[4:-10] # remove IDs, outcome, text\n",
        "outcome_col = train_dat.columns[3]\n",
        "text_col = train_dat.columns[-8:]\n",
        "\n",
        "train_dat_clin, test_dat_clin = train_dat.loc[:, clin_col], test_dat.loc[:, clin_col]\n",
        "train_dat_outcome, test_dat_outcome = train_dat.loc[:, outcome_col], test_dat.loc[:, outcome_col]\n",
        "train_dat_text, test_dat_text = train_dat.loc[:, text_col], test_dat.loc[:, text_col]"
      ]
    },
    {
      "cell_type": "code",
      "source": [
        "# standardize & impute clinical\n",
        "# clin_pipe = Pipeline([\n",
        "#     ('scalar', StandardScaler()),\n",
        "#     ('med_imputer', SimpleImputer(strategy = \"median\"))\n",
        "# ])\n",
        "\n",
        "# clin_pipe.fit(train_dat_clin)\n",
        "# train_dat_clin_imp = clin_pipe.transform(train_dat_clin)\n",
        "# val_dat_clin_imp = clin_pipe.transform(val_dat_clin)\n",
        "# test_dat_clin_imp = clin_pipe.transform(test_dat_clin)"
      ],
      "metadata": {
        "id": "b0WT9Gf99Hj7"
      },
      "execution_count": 33,
      "outputs": []
    },
    {
      "cell_type": "code",
      "execution_count": 9,
      "metadata": {
        "id": "SsliqWHa1FaL"
      },
      "outputs": [],
      "source": [
        "# tfidf\n",
        "train_doc = list(train_dat['TEXT'])\n",
        "# val_doc = list(val_dat['TEXT'])\n",
        "test_doc = list(test_dat['TEXT'])\n",
        "\n",
        "# tfidf_vectorizer = TfidfVectorizer(binary = True) # default l2 reg, 1-grams, binary word\n",
        "# tfidf_vectorizer.fit(train_doc)\n",
        "# train_dat_text_tfidf = tfidf_vectorizer.transform(train_doc).toarray()\n",
        "# val_dat_text_tfidf = tfidf_vectorizer.transform(val_doc).toarray()\n",
        "# test_dat_text_tfidf = tfidf_vectorizer.transform(test_doc).toarray()"
      ]
    },
    {
      "cell_type": "code",
      "execution_count": 35,
      "metadata": {
        "colab": {
          "base_uri": "https://localhost:8080/"
        },
        "id": "6gTPSJlI1FaL",
        "outputId": "66db4c19-248b-43ee-d650-0b834316c6e1"
      },
      "outputs": [
        {
          "output_type": "stream",
          "name": "stdout",
          "text": [
            "(544, 8842)\n",
            "(544, 48)\n"
          ]
        }
      ],
      "source": [
        "# print(train_dat_text_tfidf.shape)\n",
        "# print(train_dat_clin_imp.shape)"
      ]
    },
    {
      "cell_type": "code",
      "execution_count": 24,
      "metadata": {
        "id": "NrUjs4dz1FaP"
      },
      "outputs": [],
      "source": [
        "# combining data together\n",
        "# train_x = np.hstack([train_dat_text_tfidf])\n",
        "# val_x = np.hstack([val_dat_text_tfidf])\n",
        "# test_x = np.hstack([test_dat_text_tfidf])\n",
        "\n",
        "train_y = train_dat_outcome.to_numpy()\n",
        "# val_y = val_dat_outcome.to_numpy()\n",
        "test_y = test_dat_outcome.to_numpy()\n",
        "\n",
        "# https://imbalanced-learn.org/stable/combine.html\n",
        "# print(\"train/val/test shape: \", train_x.shape, test_x.shape)#, val_x.shape, test_x.shape)"
      ]
    },
    {
      "cell_type": "code",
      "execution_count": 41,
      "metadata": {
        "colab": {
          "base_uri": "https://localhost:8080/"
        },
        "id": "sBqzAdl21FaP",
        "outputId": "c1308144-720e-4d69-b95c-c36e1ff67d42"
      },
      "outputs": [
        {
          "output_type": "stream",
          "name": "stdout",
          "text": [
            "(466, 8842) (78, 8842)\n",
            "(466, 8842) (466, 8842)\n"
          ]
        }
      ],
      "source": [
        "# # SMOTE for imbalance\n",
        "# smote_tomek = SMOTETomek(random_state = random_state)\n",
        "# train_x_resamp, train_y_resamp = smote_tomek.fit_resample(train_x, train_y)\n",
        "# print(train_x[train_y == 0].shape, train_x[train_y == 1].shape)\n",
        "# print(train_x_resamp[train_y_resamp == 0].shape, train_x_resamp[train_y_resamp == 1].shape)"
      ]
    },
    {
      "cell_type": "code",
      "source": [
        "# sum(train_x_resamp[0] != 0)"
      ],
      "metadata": {
        "colab": {
          "base_uri": "https://localhost:8080/"
        },
        "id": "iq6_hJyR9ZOi",
        "outputId": "1b8e6ed0-e5e7-4213-8160-e7f87ca6b8ca"
      },
      "execution_count": 46,
      "outputs": [
        {
          "output_type": "execute_result",
          "data": {
            "text/plain": [
              "224"
            ]
          },
          "metadata": {},
          "execution_count": 46
        }
      ]
    },
    {
      "cell_type": "code",
      "source": [
        "# sum(train_x_resamp[0] == 0)"
      ],
      "metadata": {
        "colab": {
          "base_uri": "https://localhost:8080/"
        },
        "id": "UQyQ3OoF-gOd",
        "outputId": "82de6d96-fa9b-454a-a5c4-6d13d356c39f"
      },
      "execution_count": 49,
      "outputs": [
        {
          "output_type": "execute_result",
          "data": {
            "text/plain": [
              "8618"
            ]
          },
          "metadata": {},
          "execution_count": 49
        }
      ]
    },
    {
      "cell_type": "markdown",
      "source": [
        "## **Pretrained Transformer**"
      ],
      "metadata": {
        "id": "4hk-2pfVSwpa"
      }
    },
    {
      "cell_type": "code",
      "source": [
        "!pip install transformers"
      ],
      "metadata": {
        "colab": {
          "base_uri": "https://localhost:8080/"
        },
        "id": "ggQaAkPxTDP2",
        "outputId": "877c0af7-0a07-45e3-bcc7-3ae9a399efdf"
      },
      "execution_count": 10,
      "outputs": [
        {
          "output_type": "stream",
          "name": "stdout",
          "text": [
            "Looking in indexes: https://pypi.org/simple, https://us-python.pkg.dev/colab-wheels/public/simple/\n",
            "Collecting transformers\n",
            "  Downloading transformers-4.28.1-py3-none-any.whl (7.0 MB)\n",
            "\u001b[2K     \u001b[90m━━━━━━━━━━━━━━━━━━━━━━━━━━━━━━━━━━━━━━━━\u001b[0m \u001b[32m7.0/7.0 MB\u001b[0m \u001b[31m95.8 MB/s\u001b[0m eta \u001b[36m0:00:00\u001b[0m\n",
            "\u001b[?25hRequirement already satisfied: tqdm>=4.27 in /usr/local/lib/python3.10/dist-packages (from transformers) (4.65.0)\n",
            "Requirement already satisfied: pyyaml>=5.1 in /usr/local/lib/python3.10/dist-packages (from transformers) (6.0)\n",
            "Collecting huggingface-hub<1.0,>=0.11.0\n",
            "  Downloading huggingface_hub-0.14.1-py3-none-any.whl (224 kB)\n",
            "\u001b[2K     \u001b[90m━━━━━━━━━━━━━━━━━━━━━━━━━━━━━━━━━━━━━━\u001b[0m \u001b[32m224.5/224.5 kB\u001b[0m \u001b[31m29.5 MB/s\u001b[0m eta \u001b[36m0:00:00\u001b[0m\n",
            "\u001b[?25hCollecting tokenizers!=0.11.3,<0.14,>=0.11.1\n",
            "  Downloading tokenizers-0.13.3-cp310-cp310-manylinux_2_17_x86_64.manylinux2014_x86_64.whl (7.8 MB)\n",
            "\u001b[2K     \u001b[90m━━━━━━━━━━━━━━━━━━━━━━━━━━━━━━━━━━━━━━━━\u001b[0m \u001b[32m7.8/7.8 MB\u001b[0m \u001b[31m108.1 MB/s\u001b[0m eta \u001b[36m0:00:00\u001b[0m\n",
            "\u001b[?25hRequirement already satisfied: packaging>=20.0 in /usr/local/lib/python3.10/dist-packages (from transformers) (23.1)\n",
            "Requirement already satisfied: filelock in /usr/local/lib/python3.10/dist-packages (from transformers) (3.12.0)\n",
            "Requirement already satisfied: numpy>=1.17 in /usr/local/lib/python3.10/dist-packages (from transformers) (1.22.4)\n",
            "Requirement already satisfied: regex!=2019.12.17 in /usr/local/lib/python3.10/dist-packages (from transformers) (2022.10.31)\n",
            "Requirement already satisfied: requests in /usr/local/lib/python3.10/dist-packages (from transformers) (2.27.1)\n",
            "Requirement already satisfied: fsspec in /usr/local/lib/python3.10/dist-packages (from huggingface-hub<1.0,>=0.11.0->transformers) (2023.4.0)\n",
            "Requirement already satisfied: typing-extensions>=3.7.4.3 in /usr/local/lib/python3.10/dist-packages (from huggingface-hub<1.0,>=0.11.0->transformers) (4.5.0)\n",
            "Requirement already satisfied: urllib3<1.27,>=1.21.1 in /usr/local/lib/python3.10/dist-packages (from requests->transformers) (1.26.15)\n",
            "Requirement already satisfied: idna<4,>=2.5 in /usr/local/lib/python3.10/dist-packages (from requests->transformers) (3.4)\n",
            "Requirement already satisfied: certifi>=2017.4.17 in /usr/local/lib/python3.10/dist-packages (from requests->transformers) (2022.12.7)\n",
            "Requirement already satisfied: charset-normalizer~=2.0.0 in /usr/local/lib/python3.10/dist-packages (from requests->transformers) (2.0.12)\n",
            "Installing collected packages: tokenizers, huggingface-hub, transformers\n",
            "Successfully installed huggingface-hub-0.14.1 tokenizers-0.13.3 transformers-4.28.1\n"
          ]
        }
      ]
    },
    {
      "cell_type": "code",
      "source": [
        "from transformers import AutoTokenizer, AutoModel\n",
        "import torch"
      ],
      "metadata": {
        "id": "q5udh_PGTSfA"
      },
      "execution_count": 11,
      "outputs": []
    },
    {
      "cell_type": "code",
      "source": [
        "tokenizer = AutoTokenizer.from_pretrained(\"bert-base-uncased\")\n",
        "model = AutoModel.from_pretrained(\"bert-base-uncased\")"
      ],
      "metadata": {
        "colab": {
          "base_uri": "https://localhost:8080/",
          "height": 251,
          "referenced_widgets": [
            "7c37eb1f74c9445e8c90770dda5b2f5f",
            "650cb51b41274f0687faa149cee5d285",
            "0e492fba0d334b7d9a72a2bca9ccb510",
            "6eb437eca4c44581871e286f7e5b5bbe",
            "954d627ab4a54ae6b97d99cbfb052af6",
            "b02cf5cb66f0484da23ec03aefcc87fe",
            "e2722f89ad5f4d6f933374897416bee1",
            "f358529e882e4459a9842ea24c98e5cb",
            "e2423d7557b6408295ac9ed3af8c1999",
            "494d0420a4e04241ac4501ab4d152479",
            "4da14e6974ad4b43a725af86980f586f",
            "e34e1730473a48179d2889bacca83d21",
            "0e192baeff094ab1838f275221059ccf",
            "b462b0470c2e4a0790caece017fd466e",
            "c4c60505aa9b4bc0ae22fc2434ec95fa",
            "d931becff2794b918edea303bef26ae3",
            "e5dc37c9a73147439d90c00b0bbdfe2c",
            "34248cbccf5b479bb2bf9cfef1322d49",
            "2b5266e305334c35a5c17066c47a7584",
            "1eb6a6a766c14cadba9a9d6c01644ef0",
            "5d2386d63f284ff4b3d83e93f4fc4279",
            "8f20eb381b9c433db643aec5869bc4c3",
            "6d19776cf7824986b17cd0a1ad4a22a4",
            "1c00d98d1d684c1082a6d9912366bc70",
            "e4a3fd16412843c787c99e78f5c1b7d3",
            "a1b87857e58d49c08b7f97b7f1891c14",
            "8c2fe891db824089b5e32058eda71951",
            "ff5ef45621f84cbfa760f7785d20005e",
            "5922ec96140b4b69b7e29ea2f933665e",
            "e5e33b12e30b4b819315b4d7d1316574",
            "e069c25873114bb1ba77501a52d7df04",
            "0c3ebdedc8d04c4a8a3e8febb1901c3e",
            "5c83ed396881497b83e11274842ead77",
            "06d298c0670640ee850aea639a2ba18b",
            "412c982088f94cb5b749116369a83c4c",
            "0982cea560dc437f9c3b5f16483a7017",
            "828be6d6377142d19d4f5e25bf17bbc7",
            "6eefa6ba06b34a89bb9f9976a4af3550",
            "bc5672bb87034b10964f1f9757d90182",
            "ccd75cdf5ba1410ea97ecae279dc37fb",
            "6d4aa25f341349538f489c7782cb9d18",
            "b4f029ce6fd4460997d394d4cbce8d65",
            "0041db17f1024152a7f26fbfcf45dab9",
            "f8b8fd3712ce40359dd10692d901f958",
            "19d3d302fea14a7e8d5f39a33c8041ed",
            "fc07e1a928e3445cb35bd666e545939c",
            "271f561ff36e41088bb79c619e37c3e6",
            "f2b6ccaf1cb545e681a72bf976293e59",
            "86ba97dd2011465980f72a4bfbe38fe6",
            "56bae2cec4ee48c185591a1bd12bd7a5",
            "a3180810c21b440cbc5ce9facb6a0b47",
            "8ebae3c314664622847f3ee4fe4b975c",
            "08f4df8cb7a84dd39c0b783c381f3056",
            "f0a8a134cfaa47bcacbc6b761936e754",
            "8c78040b37694944b9009ade1a547859"
          ]
        },
        "id": "eY13TdZeTWHq",
        "outputId": "94a4b448-ded3-4814-b94d-d21e24a2cb0d"
      },
      "execution_count": 12,
      "outputs": [
        {
          "output_type": "display_data",
          "data": {
            "text/plain": [
              "Downloading (…)okenizer_config.json:   0%|          | 0.00/28.0 [00:00<?, ?B/s]"
            ],
            "application/vnd.jupyter.widget-view+json": {
              "version_major": 2,
              "version_minor": 0,
              "model_id": "7c37eb1f74c9445e8c90770dda5b2f5f"
            }
          },
          "metadata": {}
        },
        {
          "output_type": "display_data",
          "data": {
            "text/plain": [
              "Downloading (…)lve/main/config.json:   0%|          | 0.00/570 [00:00<?, ?B/s]"
            ],
            "application/vnd.jupyter.widget-view+json": {
              "version_major": 2,
              "version_minor": 0,
              "model_id": "e34e1730473a48179d2889bacca83d21"
            }
          },
          "metadata": {}
        },
        {
          "output_type": "display_data",
          "data": {
            "text/plain": [
              "Downloading (…)solve/main/vocab.txt:   0%|          | 0.00/232k [00:00<?, ?B/s]"
            ],
            "application/vnd.jupyter.widget-view+json": {
              "version_major": 2,
              "version_minor": 0,
              "model_id": "6d19776cf7824986b17cd0a1ad4a22a4"
            }
          },
          "metadata": {}
        },
        {
          "output_type": "display_data",
          "data": {
            "text/plain": [
              "Downloading (…)/main/tokenizer.json:   0%|          | 0.00/466k [00:00<?, ?B/s]"
            ],
            "application/vnd.jupyter.widget-view+json": {
              "version_major": 2,
              "version_minor": 0,
              "model_id": "06d298c0670640ee850aea639a2ba18b"
            }
          },
          "metadata": {}
        },
        {
          "output_type": "display_data",
          "data": {
            "text/plain": [
              "Downloading pytorch_model.bin:   0%|          | 0.00/440M [00:00<?, ?B/s]"
            ],
            "application/vnd.jupyter.widget-view+json": {
              "version_major": 2,
              "version_minor": 0,
              "model_id": "19d3d302fea14a7e8d5f39a33c8041ed"
            }
          },
          "metadata": {}
        },
        {
          "output_type": "stream",
          "name": "stderr",
          "text": [
            "Some weights of the model checkpoint at bert-base-uncased were not used when initializing BertModel: ['cls.predictions.transform.dense.weight', 'cls.seq_relationship.bias', 'cls.predictions.transform.LayerNorm.weight', 'cls.predictions.decoder.weight', 'cls.predictions.bias', 'cls.predictions.transform.LayerNorm.bias', 'cls.predictions.transform.dense.bias', 'cls.seq_relationship.weight']\n",
            "- This IS expected if you are initializing BertModel from the checkpoint of a model trained on another task or with another architecture (e.g. initializing a BertForSequenceClassification model from a BertForPreTraining model).\n",
            "- This IS NOT expected if you are initializing BertModel from the checkpoint of a model that you expect to be exactly identical (initializing a BertForSequenceClassification model from a BertForSequenceClassification model).\n"
          ]
        }
      ]
    },
    {
      "cell_type": "code",
      "source": [
        "train_tokens = tokenizer(train_doc, padding=True, truncation=True, return_tensors=\"pt\")"
      ],
      "metadata": {
        "id": "N0FT2llcThs0"
      },
      "execution_count": 17,
      "outputs": []
    },
    {
      "cell_type": "code",
      "source": [
        "with torch.no_grad():\n",
        "  train_outputs = model(**train_tokens)\n",
        "  train_embeddings = train_outputs.last_hidden_state[:, 0, :].numpy()"
      ],
      "metadata": {
        "id": "7ZXFyhR0d_jw"
      },
      "execution_count": 18,
      "outputs": []
    },
    {
      "cell_type": "code",
      "source": [
        "test_tokens = tokenizer(test_doc, padding=True, truncation=True, return_tensors=\"pt\")"
      ],
      "metadata": {
        "id": "RXHUnxYAegNe"
      },
      "execution_count": 19,
      "outputs": []
    },
    {
      "cell_type": "code",
      "source": [
        "with torch.no_grad():\n",
        "  test_outputs = model(**test_tokens)\n",
        "  test_embeddings = test_outputs.last_hidden_state[:, 0, :].numpy()"
      ],
      "metadata": {
        "id": "B1J9HJrtlfbC"
      },
      "execution_count": 20,
      "outputs": []
    },
    {
      "cell_type": "code",
      "source": [
        "# SMOTE for imbalance\n",
        "smote_tomek = SMOTETomek(random_state = random_state)\n",
        "train_embeddings_resamp, train_y_resamp = smote_tomek.fit_resample(train_embeddings, train_y)\n",
        "print(train_embeddings[train_y == 0].shape, train_embeddings[train_y == 1].shape)\n",
        "print(train_embeddings_resamp[train_y_resamp == 0].shape, train_embeddings_resamp[train_y_resamp == 1].shape)"
      ],
      "metadata": {
        "colab": {
          "base_uri": "https://localhost:8080/"
        },
        "id": "hATtHq-TuGdk",
        "outputId": "919e043b-6249-4245-92ef-004f3fc5eecb"
      },
      "execution_count": 29,
      "outputs": [
        {
          "output_type": "stream",
          "name": "stdout",
          "text": [
            "(466, 768) (78, 768)\n",
            "(466, 768) (466, 768)\n"
          ]
        }
      ]
    },
    {
      "cell_type": "markdown",
      "source": [
        "## **PCA**"
      ],
      "metadata": {
        "id": "zsOfM0FBCx_7"
      }
    },
    {
      "cell_type": "code",
      "source": [
        "from sklearn.decomposition import PCA\n",
        "from sklearn.datasets import fetch_20newsgroups"
      ],
      "metadata": {
        "id": "QDX29BiSC2Av"
      },
      "execution_count": 66,
      "outputs": []
    },
    {
      "cell_type": "code",
      "source": [
        "n_components = 600 # Choose the number of components to keep\n",
        "pca = PCA(n_components = n_components)\n",
        "train_x_pca = pca.fit_transform(train_x_resamp)"
      ],
      "metadata": {
        "id": "4L9qA6wsD76x"
      },
      "execution_count": 65,
      "outputs": []
    },
    {
      "cell_type": "code",
      "source": [
        "print(\"Original shape: \", train_x_resamp.shape)\n",
        "print(\"Reduced shape: \", train_x_pca.shape)"
      ],
      "metadata": {
        "colab": {
          "base_uri": "https://localhost:8080/"
        },
        "id": "vgRSDpiVEVfS",
        "outputId": "3e193fc4-d00f-42b9-9182-a8b6c0e969e7"
      },
      "execution_count": 53,
      "outputs": [
        {
          "output_type": "stream",
          "name": "stdout",
          "text": [
            "Original shape:  (932, 8842)\n",
            "Reduced shape:  (932, 100)\n"
          ]
        }
      ]
    },
    {
      "cell_type": "code",
      "source": [
        "# Transform the test data using the fitted PCA model\n",
        "test_x_pca = pca.transform(test_x)"
      ],
      "metadata": {
        "id": "ATAeL6whH780"
      },
      "execution_count": 62,
      "outputs": []
    },
    {
      "cell_type": "markdown",
      "metadata": {
        "id": "86ygTs2A1FaT"
      },
      "source": [
        "## **Modelling**"
      ]
    },
    {
      "cell_type": "code",
      "execution_count": 31,
      "metadata": {
        "id": "HfS2Db8H1FaW"
      },
      "outputs": [],
      "source": [
        "params = {\n",
        "    'LogisticRegressionCV' : {\n",
        "        'penalty' : ['l2']\n",
        "    },\n",
        "    'SVC' : {\n",
        "        'kernel' : ['linear', 'poly', 'rbf'],\n",
        "        'degree' : [3, 4, 5]\n",
        "    },\n",
        "    'GaussianProcessClassifier' : { # https://stackoverflow.com/questions/62755556/gaussian-process-regression-hyparameter-optimisation-using-python-grid-search\n",
        "            \"kernel\": [RBF(l) for l in np.logspace(-1, 1, 20)]\n",
        "        },\n",
        "    'XGBClassifier' : { # got from some towardsdatascience article i forgot\n",
        "            'gamma': [0,0.1,0.2,0.4,0.8,1.6,3.2,6.4,12.8,25.6,51.2,102.4, 200],\n",
        "            'learning_rate': [0.01, 0.03, 0.06, 0.1, 0.15, 0.2, 0.25, 0.300000012, 0.4, 0.5, 0.6, 0.7],\n",
        "            'max_depth': [5,6,7,8,9,10,11,12,13,14],\n",
        "            'n_estimators': [50,65,80,100,115,130,150],\n",
        "            'reg_alpha': [0,0.1,0.2,0.4,0.8,1.6,3.2,6.4,12.8,25.6,51.2,102.4,200],\n",
        "            'reg_lambda': [0,0.1,0.2,0.4,0.8,1.6,3.2,6.4,12.8,25.6,51.2,102.4,200],\n",
        "            'eval_metric': ['auc'],\n",
        "            'objective': ['binary:logistic']\n",
        "    }\n",
        "}"
      ]
    },
    {
      "cell_type": "code",
      "execution_count": 32,
      "metadata": {
        "id": "dE7gffcX1FaX"
      },
      "outputs": [],
      "source": [
        "def fit(x, y, parameters, n_iter, random_state = 42):\n",
        "    \"\"\"\n",
        "    Randomized hyperparameter tuning for fitting models\n",
        "\n",
        "    parameters:\n",
        "        n_iter -- number of parameter settings sampled\n",
        "    \"\"\"\n",
        "    print(\"Training LogisticRegressionCV:\")\n",
        "    lr = LogisticRegressionCV(max_iter = int(1e6))\n",
        "    rs_lr = RandomizedSearchCV(lr, parameters['LogisticRegressionCV'], n_iter = n_iter, random_state=random_state)\n",
        "    rs_lr.fit(x, y) \n",
        "\n",
        "    print(\"Training SVC:\")\n",
        "    svc = SVC(probability = True)\n",
        "    rs_svc = RandomizedSearchCV(svc, parameters['SVC'], n_iter = n_iter, random_state=random_state)\n",
        "    rs_svc.fit(x, y)\n",
        "\n",
        "    print(\"Training GaussianProcessClassifier:\")\n",
        "    gp = GaussianProcessClassifier()\n",
        "    rs_gp = RandomizedSearchCV(gp, parameters['GaussianProcessClassifier'], n_iter = n_iter, random_state=random_state)\n",
        "    rs_gp.fit(x, y)\n",
        "\n",
        "    print(\"Training XGBClassifier:\")\n",
        "    xgb = XGBClassifier()\n",
        "    rs_xgb = RandomizedSearchCV(xgb, parameters['XGBClassifier'], n_iter = n_iter, random_state=random_state)\n",
        "    rs_xgb.fit(x, y) \n",
        "\n",
        "    models = [rs_lr, rs_svc, rs_gp, rs_xgb]\n",
        "    return models \n"
      ]
    },
    {
      "cell_type": "code",
      "execution_count": 33,
      "metadata": {
        "id": "n5ZYPfL31FaZ",
        "outputId": "e071aeb7-6b6d-43f8-f914-60249d99853c",
        "colab": {
          "base_uri": "https://localhost:8080/"
        }
      },
      "outputs": [
        {
          "output_type": "stream",
          "name": "stdout",
          "text": [
            "Training LogisticRegressionCV:\n"
          ]
        },
        {
          "output_type": "stream",
          "name": "stderr",
          "text": [
            "/usr/local/lib/python3.10/dist-packages/sklearn/model_selection/_search.py:305: UserWarning: The total space of parameters 1 is smaller than n_iter=20. Running 1 iterations. For exhaustive searches, use GridSearchCV.\n",
            "  warnings.warn(\n"
          ]
        },
        {
          "output_type": "stream",
          "name": "stdout",
          "text": [
            "Training SVC:\n"
          ]
        },
        {
          "output_type": "stream",
          "name": "stderr",
          "text": [
            "/usr/local/lib/python3.10/dist-packages/sklearn/model_selection/_search.py:305: UserWarning: The total space of parameters 9 is smaller than n_iter=20. Running 9 iterations. For exhaustive searches, use GridSearchCV.\n",
            "  warnings.warn(\n"
          ]
        },
        {
          "output_type": "stream",
          "name": "stdout",
          "text": [
            "Training GaussianProcessClassifier:\n"
          ]
        },
        {
          "output_type": "stream",
          "name": "stderr",
          "text": [
            "/usr/local/lib/python3.10/dist-packages/sklearn/gaussian_process/_gpc.py:477: ConvergenceWarning: lbfgs failed to converge (status=2):\n",
            "ABNORMAL_TERMINATION_IN_LNSRCH.\n",
            "\n",
            "Increase the number of iterations (max_iter) or scale the data as shown in:\n",
            "    https://scikit-learn.org/stable/modules/preprocessing.html\n",
            "  _check_optimize_result(\"lbfgs\", opt_res)\n",
            "/usr/local/lib/python3.10/dist-packages/sklearn/gaussian_process/_gpc.py:477: ConvergenceWarning: lbfgs failed to converge (status=2):\n",
            "ABNORMAL_TERMINATION_IN_LNSRCH.\n",
            "\n",
            "Increase the number of iterations (max_iter) or scale the data as shown in:\n",
            "    https://scikit-learn.org/stable/modules/preprocessing.html\n",
            "  _check_optimize_result(\"lbfgs\", opt_res)\n",
            "/usr/local/lib/python3.10/dist-packages/sklearn/gaussian_process/_gpc.py:477: ConvergenceWarning: lbfgs failed to converge (status=2):\n",
            "ABNORMAL_TERMINATION_IN_LNSRCH.\n",
            "\n",
            "Increase the number of iterations (max_iter) or scale the data as shown in:\n",
            "    https://scikit-learn.org/stable/modules/preprocessing.html\n",
            "  _check_optimize_result(\"lbfgs\", opt_res)\n",
            "/usr/local/lib/python3.10/dist-packages/sklearn/gaussian_process/_gpc.py:477: ConvergenceWarning: lbfgs failed to converge (status=2):\n",
            "ABNORMAL_TERMINATION_IN_LNSRCH.\n",
            "\n",
            "Increase the number of iterations (max_iter) or scale the data as shown in:\n",
            "    https://scikit-learn.org/stable/modules/preprocessing.html\n",
            "  _check_optimize_result(\"lbfgs\", opt_res)\n",
            "/usr/local/lib/python3.10/dist-packages/sklearn/gaussian_process/_gpc.py:477: ConvergenceWarning: lbfgs failed to converge (status=2):\n",
            "ABNORMAL_TERMINATION_IN_LNSRCH.\n",
            "\n",
            "Increase the number of iterations (max_iter) or scale the data as shown in:\n",
            "    https://scikit-learn.org/stable/modules/preprocessing.html\n",
            "  _check_optimize_result(\"lbfgs\", opt_res)\n",
            "/usr/local/lib/python3.10/dist-packages/sklearn/gaussian_process/_gpc.py:477: ConvergenceWarning: lbfgs failed to converge (status=2):\n",
            "ABNORMAL_TERMINATION_IN_LNSRCH.\n",
            "\n",
            "Increase the number of iterations (max_iter) or scale the data as shown in:\n",
            "    https://scikit-learn.org/stable/modules/preprocessing.html\n",
            "  _check_optimize_result(\"lbfgs\", opt_res)\n"
          ]
        },
        {
          "output_type": "stream",
          "name": "stdout",
          "text": [
            "Training XGBClassifier:\n"
          ]
        }
      ],
      "source": [
        "# models = fit(train_x_resamp, train_y_resamp, params, n_iter = 20, random_state = random_state)\n",
        "models = fit(train_embeddings_resamp, train_y_resamp, params, n_iter = 20, random_state = random_state)"
      ]
    },
    {
      "cell_type": "code",
      "execution_count": 34,
      "metadata": {
        "id": "NX46KZTk1Faa",
        "outputId": "3beff054-6b9f-4b72-ef6b-c159bbf60be9",
        "colab": {
          "base_uri": "https://localhost:8080/"
        }
      },
      "outputs": [
        {
          "output_type": "stream",
          "name": "stdout",
          "text": [
            "LogisticRegressionCV(max_iter=1000000) {'penalty': 'l2'} 0.9131159795296417\n",
            "SVC(kernel='linear', probability=True) {'kernel': 'linear', 'degree': 3} 0.9088264044620781\n",
            "GaussianProcessClassifier(kernel=RBF(length_scale=0.1)) {'kernel': RBF(length_scale=0.1)} 0.8712839974699558\n",
            "XGBClassifier(base_score=None, booster=None, callbacks=None,\n",
            "              colsample_bylevel=None, colsample_bynode=None,\n",
            "              colsample_bytree=None, early_stopping_rounds=None,\n",
            "              enable_categorical=False, eval_metric='auc', feature_types=None,\n",
            "              gamma=0, gpu_id=None, grow_policy=None, importance_type=None,\n",
            "              interaction_constraints=None, learning_rate=0.1, max_bin=None,\n",
            "              max_cat_threshold=None, max_cat_to_onehot=None,\n",
            "              max_delta_step=None, max_depth=9, max_leaves=None,\n",
            "              min_child_weight=None, missing=nan, monotone_constraints=None,\n",
            "              n_estimators=130, n_jobs=None, num_parallel_tree=None,\n",
            "              predictor=None, random_state=None, ...) {'reg_lambda': 51.2, 'reg_alpha': 0.1, 'objective': 'binary:logistic', 'n_estimators': 130, 'max_depth': 9, 'learning_rate': 0.1, 'gamma': 0, 'eval_metric': 'auc'} 0.9549767120924617\n"
          ]
        }
      ],
      "source": [
        "for model in models:\n",
        "    print(model.best_estimator_, model.best_params_, model.best_score_)"
      ]
    },
    {
      "cell_type": "code",
      "execution_count": 35,
      "metadata": {
        "id": "hX-JYbMT1Faa"
      },
      "outputs": [],
      "source": [
        "def evaluate(x, y, models):\n",
        "    scores = {\n",
        "        'ACC': [], \n",
        "        'AUC': [],\n",
        "        'CMAT': []\n",
        "    }\n",
        "    for model in models:\n",
        "        y_pred = model.predict(x)\n",
        "        y_proba = model.predict_proba(x)[:, 1]\n",
        "        scores['ACC'].append(accuracy_score(y, y_pred))\n",
        "        scores['AUC'].append(roc_auc_score(y, y_proba))\n",
        "        scores['CMAT'].append(confusion_matrix(y, y_pred))\n",
        "        \n",
        "    return scores "
      ]
    },
    {
      "cell_type": "code",
      "execution_count": 36,
      "metadata": {
        "id": "yr1sy6sV1Fac",
        "outputId": "076390fa-2fcb-4352-c13e-69bd3a66b3ee",
        "colab": {
          "base_uri": "https://localhost:8080/"
        }
      },
      "outputs": [
        {
          "output_type": "execute_result",
          "data": {
            "text/plain": [
              "{'ACC': [0.71875, 0.71875, 0.7083333333333334, 0.8125],\n",
              " 'AUC': [0.514808362369338,\n",
              "  0.5191637630662022,\n",
              "  0.3954703832752613,\n",
              "  0.563588850174216],\n",
              " 'CMAT': [array([[65, 17],\n",
              "         [10,  4]]),\n",
              "  array([[65, 17],\n",
              "         [10,  4]]),\n",
              "  array([[65, 17],\n",
              "         [11,  3]]),\n",
              "  array([[77,  5],\n",
              "         [13,  1]])]}"
            ]
          },
          "metadata": {},
          "execution_count": 36
        }
      ],
      "source": [
        "evaluate(test_embeddings, test_y, models)"
      ]
    },
    {
      "cell_type": "markdown",
      "metadata": {
        "id": "q1r0t0B51Fad"
      },
      "source": [
        "## **Viz**"
      ]
    },
    {
      "cell_type": "markdown",
      "metadata": {
        "id": "iuiWb_1V1Fae"
      },
      "source": []
    }
  ],
  "metadata": {
    "kernelspec": {
      "display_name": "bst263_final",
      "language": "python",
      "name": "python3"
    },
    "language_info": {
      "codemirror_mode": {
        "name": "ipython",
        "version": 3
      },
      "file_extension": ".py",
      "mimetype": "text/x-python",
      "name": "python",
      "nbconvert_exporter": "python",
      "pygments_lexer": "ipython3",
      "version": "3.9.16"
    },
    "orig_nbformat": 4,
    "colab": {
      "provenance": [],
      "machine_shape": "hm",
      "gpuType": "A100"
    },
    "accelerator": "GPU",
    "gpuClass": "standard",
    "widgets": {
      "application/vnd.jupyter.widget-state+json": {
        "7c37eb1f74c9445e8c90770dda5b2f5f": {
          "model_module": "@jupyter-widgets/controls",
          "model_name": "HBoxModel",
          "model_module_version": "1.5.0",
          "state": {
            "_dom_classes": [],
            "_model_module": "@jupyter-widgets/controls",
            "_model_module_version": "1.5.0",
            "_model_name": "HBoxModel",
            "_view_count": null,
            "_view_module": "@jupyter-widgets/controls",
            "_view_module_version": "1.5.0",
            "_view_name": "HBoxView",
            "box_style": "",
            "children": [
              "IPY_MODEL_650cb51b41274f0687faa149cee5d285",
              "IPY_MODEL_0e492fba0d334b7d9a72a2bca9ccb510",
              "IPY_MODEL_6eb437eca4c44581871e286f7e5b5bbe"
            ],
            "layout": "IPY_MODEL_954d627ab4a54ae6b97d99cbfb052af6"
          }
        },
        "650cb51b41274f0687faa149cee5d285": {
          "model_module": "@jupyter-widgets/controls",
          "model_name": "HTMLModel",
          "model_module_version": "1.5.0",
          "state": {
            "_dom_classes": [],
            "_model_module": "@jupyter-widgets/controls",
            "_model_module_version": "1.5.0",
            "_model_name": "HTMLModel",
            "_view_count": null,
            "_view_module": "@jupyter-widgets/controls",
            "_view_module_version": "1.5.0",
            "_view_name": "HTMLView",
            "description": "",
            "description_tooltip": null,
            "layout": "IPY_MODEL_b02cf5cb66f0484da23ec03aefcc87fe",
            "placeholder": "​",
            "style": "IPY_MODEL_e2722f89ad5f4d6f933374897416bee1",
            "value": "Downloading (…)okenizer_config.json: 100%"
          }
        },
        "0e492fba0d334b7d9a72a2bca9ccb510": {
          "model_module": "@jupyter-widgets/controls",
          "model_name": "FloatProgressModel",
          "model_module_version": "1.5.0",
          "state": {
            "_dom_classes": [],
            "_model_module": "@jupyter-widgets/controls",
            "_model_module_version": "1.5.0",
            "_model_name": "FloatProgressModel",
            "_view_count": null,
            "_view_module": "@jupyter-widgets/controls",
            "_view_module_version": "1.5.0",
            "_view_name": "ProgressView",
            "bar_style": "success",
            "description": "",
            "description_tooltip": null,
            "layout": "IPY_MODEL_f358529e882e4459a9842ea24c98e5cb",
            "max": 28,
            "min": 0,
            "orientation": "horizontal",
            "style": "IPY_MODEL_e2423d7557b6408295ac9ed3af8c1999",
            "value": 28
          }
        },
        "6eb437eca4c44581871e286f7e5b5bbe": {
          "model_module": "@jupyter-widgets/controls",
          "model_name": "HTMLModel",
          "model_module_version": "1.5.0",
          "state": {
            "_dom_classes": [],
            "_model_module": "@jupyter-widgets/controls",
            "_model_module_version": "1.5.0",
            "_model_name": "HTMLModel",
            "_view_count": null,
            "_view_module": "@jupyter-widgets/controls",
            "_view_module_version": "1.5.0",
            "_view_name": "HTMLView",
            "description": "",
            "description_tooltip": null,
            "layout": "IPY_MODEL_494d0420a4e04241ac4501ab4d152479",
            "placeholder": "​",
            "style": "IPY_MODEL_4da14e6974ad4b43a725af86980f586f",
            "value": " 28.0/28.0 [00:00&lt;00:00, 176B/s]"
          }
        },
        "954d627ab4a54ae6b97d99cbfb052af6": {
          "model_module": "@jupyter-widgets/base",
          "model_name": "LayoutModel",
          "model_module_version": "1.2.0",
          "state": {
            "_model_module": "@jupyter-widgets/base",
            "_model_module_version": "1.2.0",
            "_model_name": "LayoutModel",
            "_view_count": null,
            "_view_module": "@jupyter-widgets/base",
            "_view_module_version": "1.2.0",
            "_view_name": "LayoutView",
            "align_content": null,
            "align_items": null,
            "align_self": null,
            "border": null,
            "bottom": null,
            "display": null,
            "flex": null,
            "flex_flow": null,
            "grid_area": null,
            "grid_auto_columns": null,
            "grid_auto_flow": null,
            "grid_auto_rows": null,
            "grid_column": null,
            "grid_gap": null,
            "grid_row": null,
            "grid_template_areas": null,
            "grid_template_columns": null,
            "grid_template_rows": null,
            "height": null,
            "justify_content": null,
            "justify_items": null,
            "left": null,
            "margin": null,
            "max_height": null,
            "max_width": null,
            "min_height": null,
            "min_width": null,
            "object_fit": null,
            "object_position": null,
            "order": null,
            "overflow": null,
            "overflow_x": null,
            "overflow_y": null,
            "padding": null,
            "right": null,
            "top": null,
            "visibility": null,
            "width": null
          }
        },
        "b02cf5cb66f0484da23ec03aefcc87fe": {
          "model_module": "@jupyter-widgets/base",
          "model_name": "LayoutModel",
          "model_module_version": "1.2.0",
          "state": {
            "_model_module": "@jupyter-widgets/base",
            "_model_module_version": "1.2.0",
            "_model_name": "LayoutModel",
            "_view_count": null,
            "_view_module": "@jupyter-widgets/base",
            "_view_module_version": "1.2.0",
            "_view_name": "LayoutView",
            "align_content": null,
            "align_items": null,
            "align_self": null,
            "border": null,
            "bottom": null,
            "display": null,
            "flex": null,
            "flex_flow": null,
            "grid_area": null,
            "grid_auto_columns": null,
            "grid_auto_flow": null,
            "grid_auto_rows": null,
            "grid_column": null,
            "grid_gap": null,
            "grid_row": null,
            "grid_template_areas": null,
            "grid_template_columns": null,
            "grid_template_rows": null,
            "height": null,
            "justify_content": null,
            "justify_items": null,
            "left": null,
            "margin": null,
            "max_height": null,
            "max_width": null,
            "min_height": null,
            "min_width": null,
            "object_fit": null,
            "object_position": null,
            "order": null,
            "overflow": null,
            "overflow_x": null,
            "overflow_y": null,
            "padding": null,
            "right": null,
            "top": null,
            "visibility": null,
            "width": null
          }
        },
        "e2722f89ad5f4d6f933374897416bee1": {
          "model_module": "@jupyter-widgets/controls",
          "model_name": "DescriptionStyleModel",
          "model_module_version": "1.5.0",
          "state": {
            "_model_module": "@jupyter-widgets/controls",
            "_model_module_version": "1.5.0",
            "_model_name": "DescriptionStyleModel",
            "_view_count": null,
            "_view_module": "@jupyter-widgets/base",
            "_view_module_version": "1.2.0",
            "_view_name": "StyleView",
            "description_width": ""
          }
        },
        "f358529e882e4459a9842ea24c98e5cb": {
          "model_module": "@jupyter-widgets/base",
          "model_name": "LayoutModel",
          "model_module_version": "1.2.0",
          "state": {
            "_model_module": "@jupyter-widgets/base",
            "_model_module_version": "1.2.0",
            "_model_name": "LayoutModel",
            "_view_count": null,
            "_view_module": "@jupyter-widgets/base",
            "_view_module_version": "1.2.0",
            "_view_name": "LayoutView",
            "align_content": null,
            "align_items": null,
            "align_self": null,
            "border": null,
            "bottom": null,
            "display": null,
            "flex": null,
            "flex_flow": null,
            "grid_area": null,
            "grid_auto_columns": null,
            "grid_auto_flow": null,
            "grid_auto_rows": null,
            "grid_column": null,
            "grid_gap": null,
            "grid_row": null,
            "grid_template_areas": null,
            "grid_template_columns": null,
            "grid_template_rows": null,
            "height": null,
            "justify_content": null,
            "justify_items": null,
            "left": null,
            "margin": null,
            "max_height": null,
            "max_width": null,
            "min_height": null,
            "min_width": null,
            "object_fit": null,
            "object_position": null,
            "order": null,
            "overflow": null,
            "overflow_x": null,
            "overflow_y": null,
            "padding": null,
            "right": null,
            "top": null,
            "visibility": null,
            "width": null
          }
        },
        "e2423d7557b6408295ac9ed3af8c1999": {
          "model_module": "@jupyter-widgets/controls",
          "model_name": "ProgressStyleModel",
          "model_module_version": "1.5.0",
          "state": {
            "_model_module": "@jupyter-widgets/controls",
            "_model_module_version": "1.5.0",
            "_model_name": "ProgressStyleModel",
            "_view_count": null,
            "_view_module": "@jupyter-widgets/base",
            "_view_module_version": "1.2.0",
            "_view_name": "StyleView",
            "bar_color": null,
            "description_width": ""
          }
        },
        "494d0420a4e04241ac4501ab4d152479": {
          "model_module": "@jupyter-widgets/base",
          "model_name": "LayoutModel",
          "model_module_version": "1.2.0",
          "state": {
            "_model_module": "@jupyter-widgets/base",
            "_model_module_version": "1.2.0",
            "_model_name": "LayoutModel",
            "_view_count": null,
            "_view_module": "@jupyter-widgets/base",
            "_view_module_version": "1.2.0",
            "_view_name": "LayoutView",
            "align_content": null,
            "align_items": null,
            "align_self": null,
            "border": null,
            "bottom": null,
            "display": null,
            "flex": null,
            "flex_flow": null,
            "grid_area": null,
            "grid_auto_columns": null,
            "grid_auto_flow": null,
            "grid_auto_rows": null,
            "grid_column": null,
            "grid_gap": null,
            "grid_row": null,
            "grid_template_areas": null,
            "grid_template_columns": null,
            "grid_template_rows": null,
            "height": null,
            "justify_content": null,
            "justify_items": null,
            "left": null,
            "margin": null,
            "max_height": null,
            "max_width": null,
            "min_height": null,
            "min_width": null,
            "object_fit": null,
            "object_position": null,
            "order": null,
            "overflow": null,
            "overflow_x": null,
            "overflow_y": null,
            "padding": null,
            "right": null,
            "top": null,
            "visibility": null,
            "width": null
          }
        },
        "4da14e6974ad4b43a725af86980f586f": {
          "model_module": "@jupyter-widgets/controls",
          "model_name": "DescriptionStyleModel",
          "model_module_version": "1.5.0",
          "state": {
            "_model_module": "@jupyter-widgets/controls",
            "_model_module_version": "1.5.0",
            "_model_name": "DescriptionStyleModel",
            "_view_count": null,
            "_view_module": "@jupyter-widgets/base",
            "_view_module_version": "1.2.0",
            "_view_name": "StyleView",
            "description_width": ""
          }
        },
        "e34e1730473a48179d2889bacca83d21": {
          "model_module": "@jupyter-widgets/controls",
          "model_name": "HBoxModel",
          "model_module_version": "1.5.0",
          "state": {
            "_dom_classes": [],
            "_model_module": "@jupyter-widgets/controls",
            "_model_module_version": "1.5.0",
            "_model_name": "HBoxModel",
            "_view_count": null,
            "_view_module": "@jupyter-widgets/controls",
            "_view_module_version": "1.5.0",
            "_view_name": "HBoxView",
            "box_style": "",
            "children": [
              "IPY_MODEL_0e192baeff094ab1838f275221059ccf",
              "IPY_MODEL_b462b0470c2e4a0790caece017fd466e",
              "IPY_MODEL_c4c60505aa9b4bc0ae22fc2434ec95fa"
            ],
            "layout": "IPY_MODEL_d931becff2794b918edea303bef26ae3"
          }
        },
        "0e192baeff094ab1838f275221059ccf": {
          "model_module": "@jupyter-widgets/controls",
          "model_name": "HTMLModel",
          "model_module_version": "1.5.0",
          "state": {
            "_dom_classes": [],
            "_model_module": "@jupyter-widgets/controls",
            "_model_module_version": "1.5.0",
            "_model_name": "HTMLModel",
            "_view_count": null,
            "_view_module": "@jupyter-widgets/controls",
            "_view_module_version": "1.5.0",
            "_view_name": "HTMLView",
            "description": "",
            "description_tooltip": null,
            "layout": "IPY_MODEL_e5dc37c9a73147439d90c00b0bbdfe2c",
            "placeholder": "​",
            "style": "IPY_MODEL_34248cbccf5b479bb2bf9cfef1322d49",
            "value": "Downloading (…)lve/main/config.json: 100%"
          }
        },
        "b462b0470c2e4a0790caece017fd466e": {
          "model_module": "@jupyter-widgets/controls",
          "model_name": "FloatProgressModel",
          "model_module_version": "1.5.0",
          "state": {
            "_dom_classes": [],
            "_model_module": "@jupyter-widgets/controls",
            "_model_module_version": "1.5.0",
            "_model_name": "FloatProgressModel",
            "_view_count": null,
            "_view_module": "@jupyter-widgets/controls",
            "_view_module_version": "1.5.0",
            "_view_name": "ProgressView",
            "bar_style": "success",
            "description": "",
            "description_tooltip": null,
            "layout": "IPY_MODEL_2b5266e305334c35a5c17066c47a7584",
            "max": 570,
            "min": 0,
            "orientation": "horizontal",
            "style": "IPY_MODEL_1eb6a6a766c14cadba9a9d6c01644ef0",
            "value": 570
          }
        },
        "c4c60505aa9b4bc0ae22fc2434ec95fa": {
          "model_module": "@jupyter-widgets/controls",
          "model_name": "HTMLModel",
          "model_module_version": "1.5.0",
          "state": {
            "_dom_classes": [],
            "_model_module": "@jupyter-widgets/controls",
            "_model_module_version": "1.5.0",
            "_model_name": "HTMLModel",
            "_view_count": null,
            "_view_module": "@jupyter-widgets/controls",
            "_view_module_version": "1.5.0",
            "_view_name": "HTMLView",
            "description": "",
            "description_tooltip": null,
            "layout": "IPY_MODEL_5d2386d63f284ff4b3d83e93f4fc4279",
            "placeholder": "​",
            "style": "IPY_MODEL_8f20eb381b9c433db643aec5869bc4c3",
            "value": " 570/570 [00:00&lt;00:00, 36.1kB/s]"
          }
        },
        "d931becff2794b918edea303bef26ae3": {
          "model_module": "@jupyter-widgets/base",
          "model_name": "LayoutModel",
          "model_module_version": "1.2.0",
          "state": {
            "_model_module": "@jupyter-widgets/base",
            "_model_module_version": "1.2.0",
            "_model_name": "LayoutModel",
            "_view_count": null,
            "_view_module": "@jupyter-widgets/base",
            "_view_module_version": "1.2.0",
            "_view_name": "LayoutView",
            "align_content": null,
            "align_items": null,
            "align_self": null,
            "border": null,
            "bottom": null,
            "display": null,
            "flex": null,
            "flex_flow": null,
            "grid_area": null,
            "grid_auto_columns": null,
            "grid_auto_flow": null,
            "grid_auto_rows": null,
            "grid_column": null,
            "grid_gap": null,
            "grid_row": null,
            "grid_template_areas": null,
            "grid_template_columns": null,
            "grid_template_rows": null,
            "height": null,
            "justify_content": null,
            "justify_items": null,
            "left": null,
            "margin": null,
            "max_height": null,
            "max_width": null,
            "min_height": null,
            "min_width": null,
            "object_fit": null,
            "object_position": null,
            "order": null,
            "overflow": null,
            "overflow_x": null,
            "overflow_y": null,
            "padding": null,
            "right": null,
            "top": null,
            "visibility": null,
            "width": null
          }
        },
        "e5dc37c9a73147439d90c00b0bbdfe2c": {
          "model_module": "@jupyter-widgets/base",
          "model_name": "LayoutModel",
          "model_module_version": "1.2.0",
          "state": {
            "_model_module": "@jupyter-widgets/base",
            "_model_module_version": "1.2.0",
            "_model_name": "LayoutModel",
            "_view_count": null,
            "_view_module": "@jupyter-widgets/base",
            "_view_module_version": "1.2.0",
            "_view_name": "LayoutView",
            "align_content": null,
            "align_items": null,
            "align_self": null,
            "border": null,
            "bottom": null,
            "display": null,
            "flex": null,
            "flex_flow": null,
            "grid_area": null,
            "grid_auto_columns": null,
            "grid_auto_flow": null,
            "grid_auto_rows": null,
            "grid_column": null,
            "grid_gap": null,
            "grid_row": null,
            "grid_template_areas": null,
            "grid_template_columns": null,
            "grid_template_rows": null,
            "height": null,
            "justify_content": null,
            "justify_items": null,
            "left": null,
            "margin": null,
            "max_height": null,
            "max_width": null,
            "min_height": null,
            "min_width": null,
            "object_fit": null,
            "object_position": null,
            "order": null,
            "overflow": null,
            "overflow_x": null,
            "overflow_y": null,
            "padding": null,
            "right": null,
            "top": null,
            "visibility": null,
            "width": null
          }
        },
        "34248cbccf5b479bb2bf9cfef1322d49": {
          "model_module": "@jupyter-widgets/controls",
          "model_name": "DescriptionStyleModel",
          "model_module_version": "1.5.0",
          "state": {
            "_model_module": "@jupyter-widgets/controls",
            "_model_module_version": "1.5.0",
            "_model_name": "DescriptionStyleModel",
            "_view_count": null,
            "_view_module": "@jupyter-widgets/base",
            "_view_module_version": "1.2.0",
            "_view_name": "StyleView",
            "description_width": ""
          }
        },
        "2b5266e305334c35a5c17066c47a7584": {
          "model_module": "@jupyter-widgets/base",
          "model_name": "LayoutModel",
          "model_module_version": "1.2.0",
          "state": {
            "_model_module": "@jupyter-widgets/base",
            "_model_module_version": "1.2.0",
            "_model_name": "LayoutModel",
            "_view_count": null,
            "_view_module": "@jupyter-widgets/base",
            "_view_module_version": "1.2.0",
            "_view_name": "LayoutView",
            "align_content": null,
            "align_items": null,
            "align_self": null,
            "border": null,
            "bottom": null,
            "display": null,
            "flex": null,
            "flex_flow": null,
            "grid_area": null,
            "grid_auto_columns": null,
            "grid_auto_flow": null,
            "grid_auto_rows": null,
            "grid_column": null,
            "grid_gap": null,
            "grid_row": null,
            "grid_template_areas": null,
            "grid_template_columns": null,
            "grid_template_rows": null,
            "height": null,
            "justify_content": null,
            "justify_items": null,
            "left": null,
            "margin": null,
            "max_height": null,
            "max_width": null,
            "min_height": null,
            "min_width": null,
            "object_fit": null,
            "object_position": null,
            "order": null,
            "overflow": null,
            "overflow_x": null,
            "overflow_y": null,
            "padding": null,
            "right": null,
            "top": null,
            "visibility": null,
            "width": null
          }
        },
        "1eb6a6a766c14cadba9a9d6c01644ef0": {
          "model_module": "@jupyter-widgets/controls",
          "model_name": "ProgressStyleModel",
          "model_module_version": "1.5.0",
          "state": {
            "_model_module": "@jupyter-widgets/controls",
            "_model_module_version": "1.5.0",
            "_model_name": "ProgressStyleModel",
            "_view_count": null,
            "_view_module": "@jupyter-widgets/base",
            "_view_module_version": "1.2.0",
            "_view_name": "StyleView",
            "bar_color": null,
            "description_width": ""
          }
        },
        "5d2386d63f284ff4b3d83e93f4fc4279": {
          "model_module": "@jupyter-widgets/base",
          "model_name": "LayoutModel",
          "model_module_version": "1.2.0",
          "state": {
            "_model_module": "@jupyter-widgets/base",
            "_model_module_version": "1.2.0",
            "_model_name": "LayoutModel",
            "_view_count": null,
            "_view_module": "@jupyter-widgets/base",
            "_view_module_version": "1.2.0",
            "_view_name": "LayoutView",
            "align_content": null,
            "align_items": null,
            "align_self": null,
            "border": null,
            "bottom": null,
            "display": null,
            "flex": null,
            "flex_flow": null,
            "grid_area": null,
            "grid_auto_columns": null,
            "grid_auto_flow": null,
            "grid_auto_rows": null,
            "grid_column": null,
            "grid_gap": null,
            "grid_row": null,
            "grid_template_areas": null,
            "grid_template_columns": null,
            "grid_template_rows": null,
            "height": null,
            "justify_content": null,
            "justify_items": null,
            "left": null,
            "margin": null,
            "max_height": null,
            "max_width": null,
            "min_height": null,
            "min_width": null,
            "object_fit": null,
            "object_position": null,
            "order": null,
            "overflow": null,
            "overflow_x": null,
            "overflow_y": null,
            "padding": null,
            "right": null,
            "top": null,
            "visibility": null,
            "width": null
          }
        },
        "8f20eb381b9c433db643aec5869bc4c3": {
          "model_module": "@jupyter-widgets/controls",
          "model_name": "DescriptionStyleModel",
          "model_module_version": "1.5.0",
          "state": {
            "_model_module": "@jupyter-widgets/controls",
            "_model_module_version": "1.5.0",
            "_model_name": "DescriptionStyleModel",
            "_view_count": null,
            "_view_module": "@jupyter-widgets/base",
            "_view_module_version": "1.2.0",
            "_view_name": "StyleView",
            "description_width": ""
          }
        },
        "6d19776cf7824986b17cd0a1ad4a22a4": {
          "model_module": "@jupyter-widgets/controls",
          "model_name": "HBoxModel",
          "model_module_version": "1.5.0",
          "state": {
            "_dom_classes": [],
            "_model_module": "@jupyter-widgets/controls",
            "_model_module_version": "1.5.0",
            "_model_name": "HBoxModel",
            "_view_count": null,
            "_view_module": "@jupyter-widgets/controls",
            "_view_module_version": "1.5.0",
            "_view_name": "HBoxView",
            "box_style": "",
            "children": [
              "IPY_MODEL_1c00d98d1d684c1082a6d9912366bc70",
              "IPY_MODEL_e4a3fd16412843c787c99e78f5c1b7d3",
              "IPY_MODEL_a1b87857e58d49c08b7f97b7f1891c14"
            ],
            "layout": "IPY_MODEL_8c2fe891db824089b5e32058eda71951"
          }
        },
        "1c00d98d1d684c1082a6d9912366bc70": {
          "model_module": "@jupyter-widgets/controls",
          "model_name": "HTMLModel",
          "model_module_version": "1.5.0",
          "state": {
            "_dom_classes": [],
            "_model_module": "@jupyter-widgets/controls",
            "_model_module_version": "1.5.0",
            "_model_name": "HTMLModel",
            "_view_count": null,
            "_view_module": "@jupyter-widgets/controls",
            "_view_module_version": "1.5.0",
            "_view_name": "HTMLView",
            "description": "",
            "description_tooltip": null,
            "layout": "IPY_MODEL_ff5ef45621f84cbfa760f7785d20005e",
            "placeholder": "​",
            "style": "IPY_MODEL_5922ec96140b4b69b7e29ea2f933665e",
            "value": "Downloading (…)solve/main/vocab.txt: 100%"
          }
        },
        "e4a3fd16412843c787c99e78f5c1b7d3": {
          "model_module": "@jupyter-widgets/controls",
          "model_name": "FloatProgressModel",
          "model_module_version": "1.5.0",
          "state": {
            "_dom_classes": [],
            "_model_module": "@jupyter-widgets/controls",
            "_model_module_version": "1.5.0",
            "_model_name": "FloatProgressModel",
            "_view_count": null,
            "_view_module": "@jupyter-widgets/controls",
            "_view_module_version": "1.5.0",
            "_view_name": "ProgressView",
            "bar_style": "success",
            "description": "",
            "description_tooltip": null,
            "layout": "IPY_MODEL_e5e33b12e30b4b819315b4d7d1316574",
            "max": 231508,
            "min": 0,
            "orientation": "horizontal",
            "style": "IPY_MODEL_e069c25873114bb1ba77501a52d7df04",
            "value": 231508
          }
        },
        "a1b87857e58d49c08b7f97b7f1891c14": {
          "model_module": "@jupyter-widgets/controls",
          "model_name": "HTMLModel",
          "model_module_version": "1.5.0",
          "state": {
            "_dom_classes": [],
            "_model_module": "@jupyter-widgets/controls",
            "_model_module_version": "1.5.0",
            "_model_name": "HTMLModel",
            "_view_count": null,
            "_view_module": "@jupyter-widgets/controls",
            "_view_module_version": "1.5.0",
            "_view_name": "HTMLView",
            "description": "",
            "description_tooltip": null,
            "layout": "IPY_MODEL_0c3ebdedc8d04c4a8a3e8febb1901c3e",
            "placeholder": "​",
            "style": "IPY_MODEL_5c83ed396881497b83e11274842ead77",
            "value": " 232k/232k [00:00&lt;00:00, 1.06MB/s]"
          }
        },
        "8c2fe891db824089b5e32058eda71951": {
          "model_module": "@jupyter-widgets/base",
          "model_name": "LayoutModel",
          "model_module_version": "1.2.0",
          "state": {
            "_model_module": "@jupyter-widgets/base",
            "_model_module_version": "1.2.0",
            "_model_name": "LayoutModel",
            "_view_count": null,
            "_view_module": "@jupyter-widgets/base",
            "_view_module_version": "1.2.0",
            "_view_name": "LayoutView",
            "align_content": null,
            "align_items": null,
            "align_self": null,
            "border": null,
            "bottom": null,
            "display": null,
            "flex": null,
            "flex_flow": null,
            "grid_area": null,
            "grid_auto_columns": null,
            "grid_auto_flow": null,
            "grid_auto_rows": null,
            "grid_column": null,
            "grid_gap": null,
            "grid_row": null,
            "grid_template_areas": null,
            "grid_template_columns": null,
            "grid_template_rows": null,
            "height": null,
            "justify_content": null,
            "justify_items": null,
            "left": null,
            "margin": null,
            "max_height": null,
            "max_width": null,
            "min_height": null,
            "min_width": null,
            "object_fit": null,
            "object_position": null,
            "order": null,
            "overflow": null,
            "overflow_x": null,
            "overflow_y": null,
            "padding": null,
            "right": null,
            "top": null,
            "visibility": null,
            "width": null
          }
        },
        "ff5ef45621f84cbfa760f7785d20005e": {
          "model_module": "@jupyter-widgets/base",
          "model_name": "LayoutModel",
          "model_module_version": "1.2.0",
          "state": {
            "_model_module": "@jupyter-widgets/base",
            "_model_module_version": "1.2.0",
            "_model_name": "LayoutModel",
            "_view_count": null,
            "_view_module": "@jupyter-widgets/base",
            "_view_module_version": "1.2.0",
            "_view_name": "LayoutView",
            "align_content": null,
            "align_items": null,
            "align_self": null,
            "border": null,
            "bottom": null,
            "display": null,
            "flex": null,
            "flex_flow": null,
            "grid_area": null,
            "grid_auto_columns": null,
            "grid_auto_flow": null,
            "grid_auto_rows": null,
            "grid_column": null,
            "grid_gap": null,
            "grid_row": null,
            "grid_template_areas": null,
            "grid_template_columns": null,
            "grid_template_rows": null,
            "height": null,
            "justify_content": null,
            "justify_items": null,
            "left": null,
            "margin": null,
            "max_height": null,
            "max_width": null,
            "min_height": null,
            "min_width": null,
            "object_fit": null,
            "object_position": null,
            "order": null,
            "overflow": null,
            "overflow_x": null,
            "overflow_y": null,
            "padding": null,
            "right": null,
            "top": null,
            "visibility": null,
            "width": null
          }
        },
        "5922ec96140b4b69b7e29ea2f933665e": {
          "model_module": "@jupyter-widgets/controls",
          "model_name": "DescriptionStyleModel",
          "model_module_version": "1.5.0",
          "state": {
            "_model_module": "@jupyter-widgets/controls",
            "_model_module_version": "1.5.0",
            "_model_name": "DescriptionStyleModel",
            "_view_count": null,
            "_view_module": "@jupyter-widgets/base",
            "_view_module_version": "1.2.0",
            "_view_name": "StyleView",
            "description_width": ""
          }
        },
        "e5e33b12e30b4b819315b4d7d1316574": {
          "model_module": "@jupyter-widgets/base",
          "model_name": "LayoutModel",
          "model_module_version": "1.2.0",
          "state": {
            "_model_module": "@jupyter-widgets/base",
            "_model_module_version": "1.2.0",
            "_model_name": "LayoutModel",
            "_view_count": null,
            "_view_module": "@jupyter-widgets/base",
            "_view_module_version": "1.2.0",
            "_view_name": "LayoutView",
            "align_content": null,
            "align_items": null,
            "align_self": null,
            "border": null,
            "bottom": null,
            "display": null,
            "flex": null,
            "flex_flow": null,
            "grid_area": null,
            "grid_auto_columns": null,
            "grid_auto_flow": null,
            "grid_auto_rows": null,
            "grid_column": null,
            "grid_gap": null,
            "grid_row": null,
            "grid_template_areas": null,
            "grid_template_columns": null,
            "grid_template_rows": null,
            "height": null,
            "justify_content": null,
            "justify_items": null,
            "left": null,
            "margin": null,
            "max_height": null,
            "max_width": null,
            "min_height": null,
            "min_width": null,
            "object_fit": null,
            "object_position": null,
            "order": null,
            "overflow": null,
            "overflow_x": null,
            "overflow_y": null,
            "padding": null,
            "right": null,
            "top": null,
            "visibility": null,
            "width": null
          }
        },
        "e069c25873114bb1ba77501a52d7df04": {
          "model_module": "@jupyter-widgets/controls",
          "model_name": "ProgressStyleModel",
          "model_module_version": "1.5.0",
          "state": {
            "_model_module": "@jupyter-widgets/controls",
            "_model_module_version": "1.5.0",
            "_model_name": "ProgressStyleModel",
            "_view_count": null,
            "_view_module": "@jupyter-widgets/base",
            "_view_module_version": "1.2.0",
            "_view_name": "StyleView",
            "bar_color": null,
            "description_width": ""
          }
        },
        "0c3ebdedc8d04c4a8a3e8febb1901c3e": {
          "model_module": "@jupyter-widgets/base",
          "model_name": "LayoutModel",
          "model_module_version": "1.2.0",
          "state": {
            "_model_module": "@jupyter-widgets/base",
            "_model_module_version": "1.2.0",
            "_model_name": "LayoutModel",
            "_view_count": null,
            "_view_module": "@jupyter-widgets/base",
            "_view_module_version": "1.2.0",
            "_view_name": "LayoutView",
            "align_content": null,
            "align_items": null,
            "align_self": null,
            "border": null,
            "bottom": null,
            "display": null,
            "flex": null,
            "flex_flow": null,
            "grid_area": null,
            "grid_auto_columns": null,
            "grid_auto_flow": null,
            "grid_auto_rows": null,
            "grid_column": null,
            "grid_gap": null,
            "grid_row": null,
            "grid_template_areas": null,
            "grid_template_columns": null,
            "grid_template_rows": null,
            "height": null,
            "justify_content": null,
            "justify_items": null,
            "left": null,
            "margin": null,
            "max_height": null,
            "max_width": null,
            "min_height": null,
            "min_width": null,
            "object_fit": null,
            "object_position": null,
            "order": null,
            "overflow": null,
            "overflow_x": null,
            "overflow_y": null,
            "padding": null,
            "right": null,
            "top": null,
            "visibility": null,
            "width": null
          }
        },
        "5c83ed396881497b83e11274842ead77": {
          "model_module": "@jupyter-widgets/controls",
          "model_name": "DescriptionStyleModel",
          "model_module_version": "1.5.0",
          "state": {
            "_model_module": "@jupyter-widgets/controls",
            "_model_module_version": "1.5.0",
            "_model_name": "DescriptionStyleModel",
            "_view_count": null,
            "_view_module": "@jupyter-widgets/base",
            "_view_module_version": "1.2.0",
            "_view_name": "StyleView",
            "description_width": ""
          }
        },
        "06d298c0670640ee850aea639a2ba18b": {
          "model_module": "@jupyter-widgets/controls",
          "model_name": "HBoxModel",
          "model_module_version": "1.5.0",
          "state": {
            "_dom_classes": [],
            "_model_module": "@jupyter-widgets/controls",
            "_model_module_version": "1.5.0",
            "_model_name": "HBoxModel",
            "_view_count": null,
            "_view_module": "@jupyter-widgets/controls",
            "_view_module_version": "1.5.0",
            "_view_name": "HBoxView",
            "box_style": "",
            "children": [
              "IPY_MODEL_412c982088f94cb5b749116369a83c4c",
              "IPY_MODEL_0982cea560dc437f9c3b5f16483a7017",
              "IPY_MODEL_828be6d6377142d19d4f5e25bf17bbc7"
            ],
            "layout": "IPY_MODEL_6eefa6ba06b34a89bb9f9976a4af3550"
          }
        },
        "412c982088f94cb5b749116369a83c4c": {
          "model_module": "@jupyter-widgets/controls",
          "model_name": "HTMLModel",
          "model_module_version": "1.5.0",
          "state": {
            "_dom_classes": [],
            "_model_module": "@jupyter-widgets/controls",
            "_model_module_version": "1.5.0",
            "_model_name": "HTMLModel",
            "_view_count": null,
            "_view_module": "@jupyter-widgets/controls",
            "_view_module_version": "1.5.0",
            "_view_name": "HTMLView",
            "description": "",
            "description_tooltip": null,
            "layout": "IPY_MODEL_bc5672bb87034b10964f1f9757d90182",
            "placeholder": "​",
            "style": "IPY_MODEL_ccd75cdf5ba1410ea97ecae279dc37fb",
            "value": "Downloading (…)/main/tokenizer.json: 100%"
          }
        },
        "0982cea560dc437f9c3b5f16483a7017": {
          "model_module": "@jupyter-widgets/controls",
          "model_name": "FloatProgressModel",
          "model_module_version": "1.5.0",
          "state": {
            "_dom_classes": [],
            "_model_module": "@jupyter-widgets/controls",
            "_model_module_version": "1.5.0",
            "_model_name": "FloatProgressModel",
            "_view_count": null,
            "_view_module": "@jupyter-widgets/controls",
            "_view_module_version": "1.5.0",
            "_view_name": "ProgressView",
            "bar_style": "success",
            "description": "",
            "description_tooltip": null,
            "layout": "IPY_MODEL_6d4aa25f341349538f489c7782cb9d18",
            "max": 466062,
            "min": 0,
            "orientation": "horizontal",
            "style": "IPY_MODEL_b4f029ce6fd4460997d394d4cbce8d65",
            "value": 466062
          }
        },
        "828be6d6377142d19d4f5e25bf17bbc7": {
          "model_module": "@jupyter-widgets/controls",
          "model_name": "HTMLModel",
          "model_module_version": "1.5.0",
          "state": {
            "_dom_classes": [],
            "_model_module": "@jupyter-widgets/controls",
            "_model_module_version": "1.5.0",
            "_model_name": "HTMLModel",
            "_view_count": null,
            "_view_module": "@jupyter-widgets/controls",
            "_view_module_version": "1.5.0",
            "_view_name": "HTMLView",
            "description": "",
            "description_tooltip": null,
            "layout": "IPY_MODEL_0041db17f1024152a7f26fbfcf45dab9",
            "placeholder": "​",
            "style": "IPY_MODEL_f8b8fd3712ce40359dd10692d901f958",
            "value": " 466k/466k [00:00&lt;00:00, 25.9MB/s]"
          }
        },
        "6eefa6ba06b34a89bb9f9976a4af3550": {
          "model_module": "@jupyter-widgets/base",
          "model_name": "LayoutModel",
          "model_module_version": "1.2.0",
          "state": {
            "_model_module": "@jupyter-widgets/base",
            "_model_module_version": "1.2.0",
            "_model_name": "LayoutModel",
            "_view_count": null,
            "_view_module": "@jupyter-widgets/base",
            "_view_module_version": "1.2.0",
            "_view_name": "LayoutView",
            "align_content": null,
            "align_items": null,
            "align_self": null,
            "border": null,
            "bottom": null,
            "display": null,
            "flex": null,
            "flex_flow": null,
            "grid_area": null,
            "grid_auto_columns": null,
            "grid_auto_flow": null,
            "grid_auto_rows": null,
            "grid_column": null,
            "grid_gap": null,
            "grid_row": null,
            "grid_template_areas": null,
            "grid_template_columns": null,
            "grid_template_rows": null,
            "height": null,
            "justify_content": null,
            "justify_items": null,
            "left": null,
            "margin": null,
            "max_height": null,
            "max_width": null,
            "min_height": null,
            "min_width": null,
            "object_fit": null,
            "object_position": null,
            "order": null,
            "overflow": null,
            "overflow_x": null,
            "overflow_y": null,
            "padding": null,
            "right": null,
            "top": null,
            "visibility": null,
            "width": null
          }
        },
        "bc5672bb87034b10964f1f9757d90182": {
          "model_module": "@jupyter-widgets/base",
          "model_name": "LayoutModel",
          "model_module_version": "1.2.0",
          "state": {
            "_model_module": "@jupyter-widgets/base",
            "_model_module_version": "1.2.0",
            "_model_name": "LayoutModel",
            "_view_count": null,
            "_view_module": "@jupyter-widgets/base",
            "_view_module_version": "1.2.0",
            "_view_name": "LayoutView",
            "align_content": null,
            "align_items": null,
            "align_self": null,
            "border": null,
            "bottom": null,
            "display": null,
            "flex": null,
            "flex_flow": null,
            "grid_area": null,
            "grid_auto_columns": null,
            "grid_auto_flow": null,
            "grid_auto_rows": null,
            "grid_column": null,
            "grid_gap": null,
            "grid_row": null,
            "grid_template_areas": null,
            "grid_template_columns": null,
            "grid_template_rows": null,
            "height": null,
            "justify_content": null,
            "justify_items": null,
            "left": null,
            "margin": null,
            "max_height": null,
            "max_width": null,
            "min_height": null,
            "min_width": null,
            "object_fit": null,
            "object_position": null,
            "order": null,
            "overflow": null,
            "overflow_x": null,
            "overflow_y": null,
            "padding": null,
            "right": null,
            "top": null,
            "visibility": null,
            "width": null
          }
        },
        "ccd75cdf5ba1410ea97ecae279dc37fb": {
          "model_module": "@jupyter-widgets/controls",
          "model_name": "DescriptionStyleModel",
          "model_module_version": "1.5.0",
          "state": {
            "_model_module": "@jupyter-widgets/controls",
            "_model_module_version": "1.5.0",
            "_model_name": "DescriptionStyleModel",
            "_view_count": null,
            "_view_module": "@jupyter-widgets/base",
            "_view_module_version": "1.2.0",
            "_view_name": "StyleView",
            "description_width": ""
          }
        },
        "6d4aa25f341349538f489c7782cb9d18": {
          "model_module": "@jupyter-widgets/base",
          "model_name": "LayoutModel",
          "model_module_version": "1.2.0",
          "state": {
            "_model_module": "@jupyter-widgets/base",
            "_model_module_version": "1.2.0",
            "_model_name": "LayoutModel",
            "_view_count": null,
            "_view_module": "@jupyter-widgets/base",
            "_view_module_version": "1.2.0",
            "_view_name": "LayoutView",
            "align_content": null,
            "align_items": null,
            "align_self": null,
            "border": null,
            "bottom": null,
            "display": null,
            "flex": null,
            "flex_flow": null,
            "grid_area": null,
            "grid_auto_columns": null,
            "grid_auto_flow": null,
            "grid_auto_rows": null,
            "grid_column": null,
            "grid_gap": null,
            "grid_row": null,
            "grid_template_areas": null,
            "grid_template_columns": null,
            "grid_template_rows": null,
            "height": null,
            "justify_content": null,
            "justify_items": null,
            "left": null,
            "margin": null,
            "max_height": null,
            "max_width": null,
            "min_height": null,
            "min_width": null,
            "object_fit": null,
            "object_position": null,
            "order": null,
            "overflow": null,
            "overflow_x": null,
            "overflow_y": null,
            "padding": null,
            "right": null,
            "top": null,
            "visibility": null,
            "width": null
          }
        },
        "b4f029ce6fd4460997d394d4cbce8d65": {
          "model_module": "@jupyter-widgets/controls",
          "model_name": "ProgressStyleModel",
          "model_module_version": "1.5.0",
          "state": {
            "_model_module": "@jupyter-widgets/controls",
            "_model_module_version": "1.5.0",
            "_model_name": "ProgressStyleModel",
            "_view_count": null,
            "_view_module": "@jupyter-widgets/base",
            "_view_module_version": "1.2.0",
            "_view_name": "StyleView",
            "bar_color": null,
            "description_width": ""
          }
        },
        "0041db17f1024152a7f26fbfcf45dab9": {
          "model_module": "@jupyter-widgets/base",
          "model_name": "LayoutModel",
          "model_module_version": "1.2.0",
          "state": {
            "_model_module": "@jupyter-widgets/base",
            "_model_module_version": "1.2.0",
            "_model_name": "LayoutModel",
            "_view_count": null,
            "_view_module": "@jupyter-widgets/base",
            "_view_module_version": "1.2.0",
            "_view_name": "LayoutView",
            "align_content": null,
            "align_items": null,
            "align_self": null,
            "border": null,
            "bottom": null,
            "display": null,
            "flex": null,
            "flex_flow": null,
            "grid_area": null,
            "grid_auto_columns": null,
            "grid_auto_flow": null,
            "grid_auto_rows": null,
            "grid_column": null,
            "grid_gap": null,
            "grid_row": null,
            "grid_template_areas": null,
            "grid_template_columns": null,
            "grid_template_rows": null,
            "height": null,
            "justify_content": null,
            "justify_items": null,
            "left": null,
            "margin": null,
            "max_height": null,
            "max_width": null,
            "min_height": null,
            "min_width": null,
            "object_fit": null,
            "object_position": null,
            "order": null,
            "overflow": null,
            "overflow_x": null,
            "overflow_y": null,
            "padding": null,
            "right": null,
            "top": null,
            "visibility": null,
            "width": null
          }
        },
        "f8b8fd3712ce40359dd10692d901f958": {
          "model_module": "@jupyter-widgets/controls",
          "model_name": "DescriptionStyleModel",
          "model_module_version": "1.5.0",
          "state": {
            "_model_module": "@jupyter-widgets/controls",
            "_model_module_version": "1.5.0",
            "_model_name": "DescriptionStyleModel",
            "_view_count": null,
            "_view_module": "@jupyter-widgets/base",
            "_view_module_version": "1.2.0",
            "_view_name": "StyleView",
            "description_width": ""
          }
        },
        "19d3d302fea14a7e8d5f39a33c8041ed": {
          "model_module": "@jupyter-widgets/controls",
          "model_name": "HBoxModel",
          "model_module_version": "1.5.0",
          "state": {
            "_dom_classes": [],
            "_model_module": "@jupyter-widgets/controls",
            "_model_module_version": "1.5.0",
            "_model_name": "HBoxModel",
            "_view_count": null,
            "_view_module": "@jupyter-widgets/controls",
            "_view_module_version": "1.5.0",
            "_view_name": "HBoxView",
            "box_style": "",
            "children": [
              "IPY_MODEL_fc07e1a928e3445cb35bd666e545939c",
              "IPY_MODEL_271f561ff36e41088bb79c619e37c3e6",
              "IPY_MODEL_f2b6ccaf1cb545e681a72bf976293e59"
            ],
            "layout": "IPY_MODEL_86ba97dd2011465980f72a4bfbe38fe6"
          }
        },
        "fc07e1a928e3445cb35bd666e545939c": {
          "model_module": "@jupyter-widgets/controls",
          "model_name": "HTMLModel",
          "model_module_version": "1.5.0",
          "state": {
            "_dom_classes": [],
            "_model_module": "@jupyter-widgets/controls",
            "_model_module_version": "1.5.0",
            "_model_name": "HTMLModel",
            "_view_count": null,
            "_view_module": "@jupyter-widgets/controls",
            "_view_module_version": "1.5.0",
            "_view_name": "HTMLView",
            "description": "",
            "description_tooltip": null,
            "layout": "IPY_MODEL_56bae2cec4ee48c185591a1bd12bd7a5",
            "placeholder": "​",
            "style": "IPY_MODEL_a3180810c21b440cbc5ce9facb6a0b47",
            "value": "Downloading pytorch_model.bin: 100%"
          }
        },
        "271f561ff36e41088bb79c619e37c3e6": {
          "model_module": "@jupyter-widgets/controls",
          "model_name": "FloatProgressModel",
          "model_module_version": "1.5.0",
          "state": {
            "_dom_classes": [],
            "_model_module": "@jupyter-widgets/controls",
            "_model_module_version": "1.5.0",
            "_model_name": "FloatProgressModel",
            "_view_count": null,
            "_view_module": "@jupyter-widgets/controls",
            "_view_module_version": "1.5.0",
            "_view_name": "ProgressView",
            "bar_style": "success",
            "description": "",
            "description_tooltip": null,
            "layout": "IPY_MODEL_8ebae3c314664622847f3ee4fe4b975c",
            "max": 440473133,
            "min": 0,
            "orientation": "horizontal",
            "style": "IPY_MODEL_08f4df8cb7a84dd39c0b783c381f3056",
            "value": 440473133
          }
        },
        "f2b6ccaf1cb545e681a72bf976293e59": {
          "model_module": "@jupyter-widgets/controls",
          "model_name": "HTMLModel",
          "model_module_version": "1.5.0",
          "state": {
            "_dom_classes": [],
            "_model_module": "@jupyter-widgets/controls",
            "_model_module_version": "1.5.0",
            "_model_name": "HTMLModel",
            "_view_count": null,
            "_view_module": "@jupyter-widgets/controls",
            "_view_module_version": "1.5.0",
            "_view_name": "HTMLView",
            "description": "",
            "description_tooltip": null,
            "layout": "IPY_MODEL_f0a8a134cfaa47bcacbc6b761936e754",
            "placeholder": "​",
            "style": "IPY_MODEL_8c78040b37694944b9009ade1a547859",
            "value": " 440M/440M [00:00&lt;00:00, 530MB/s]"
          }
        },
        "86ba97dd2011465980f72a4bfbe38fe6": {
          "model_module": "@jupyter-widgets/base",
          "model_name": "LayoutModel",
          "model_module_version": "1.2.0",
          "state": {
            "_model_module": "@jupyter-widgets/base",
            "_model_module_version": "1.2.0",
            "_model_name": "LayoutModel",
            "_view_count": null,
            "_view_module": "@jupyter-widgets/base",
            "_view_module_version": "1.2.0",
            "_view_name": "LayoutView",
            "align_content": null,
            "align_items": null,
            "align_self": null,
            "border": null,
            "bottom": null,
            "display": null,
            "flex": null,
            "flex_flow": null,
            "grid_area": null,
            "grid_auto_columns": null,
            "grid_auto_flow": null,
            "grid_auto_rows": null,
            "grid_column": null,
            "grid_gap": null,
            "grid_row": null,
            "grid_template_areas": null,
            "grid_template_columns": null,
            "grid_template_rows": null,
            "height": null,
            "justify_content": null,
            "justify_items": null,
            "left": null,
            "margin": null,
            "max_height": null,
            "max_width": null,
            "min_height": null,
            "min_width": null,
            "object_fit": null,
            "object_position": null,
            "order": null,
            "overflow": null,
            "overflow_x": null,
            "overflow_y": null,
            "padding": null,
            "right": null,
            "top": null,
            "visibility": null,
            "width": null
          }
        },
        "56bae2cec4ee48c185591a1bd12bd7a5": {
          "model_module": "@jupyter-widgets/base",
          "model_name": "LayoutModel",
          "model_module_version": "1.2.0",
          "state": {
            "_model_module": "@jupyter-widgets/base",
            "_model_module_version": "1.2.0",
            "_model_name": "LayoutModel",
            "_view_count": null,
            "_view_module": "@jupyter-widgets/base",
            "_view_module_version": "1.2.0",
            "_view_name": "LayoutView",
            "align_content": null,
            "align_items": null,
            "align_self": null,
            "border": null,
            "bottom": null,
            "display": null,
            "flex": null,
            "flex_flow": null,
            "grid_area": null,
            "grid_auto_columns": null,
            "grid_auto_flow": null,
            "grid_auto_rows": null,
            "grid_column": null,
            "grid_gap": null,
            "grid_row": null,
            "grid_template_areas": null,
            "grid_template_columns": null,
            "grid_template_rows": null,
            "height": null,
            "justify_content": null,
            "justify_items": null,
            "left": null,
            "margin": null,
            "max_height": null,
            "max_width": null,
            "min_height": null,
            "min_width": null,
            "object_fit": null,
            "object_position": null,
            "order": null,
            "overflow": null,
            "overflow_x": null,
            "overflow_y": null,
            "padding": null,
            "right": null,
            "top": null,
            "visibility": null,
            "width": null
          }
        },
        "a3180810c21b440cbc5ce9facb6a0b47": {
          "model_module": "@jupyter-widgets/controls",
          "model_name": "DescriptionStyleModel",
          "model_module_version": "1.5.0",
          "state": {
            "_model_module": "@jupyter-widgets/controls",
            "_model_module_version": "1.5.0",
            "_model_name": "DescriptionStyleModel",
            "_view_count": null,
            "_view_module": "@jupyter-widgets/base",
            "_view_module_version": "1.2.0",
            "_view_name": "StyleView",
            "description_width": ""
          }
        },
        "8ebae3c314664622847f3ee4fe4b975c": {
          "model_module": "@jupyter-widgets/base",
          "model_name": "LayoutModel",
          "model_module_version": "1.2.0",
          "state": {
            "_model_module": "@jupyter-widgets/base",
            "_model_module_version": "1.2.0",
            "_model_name": "LayoutModel",
            "_view_count": null,
            "_view_module": "@jupyter-widgets/base",
            "_view_module_version": "1.2.0",
            "_view_name": "LayoutView",
            "align_content": null,
            "align_items": null,
            "align_self": null,
            "border": null,
            "bottom": null,
            "display": null,
            "flex": null,
            "flex_flow": null,
            "grid_area": null,
            "grid_auto_columns": null,
            "grid_auto_flow": null,
            "grid_auto_rows": null,
            "grid_column": null,
            "grid_gap": null,
            "grid_row": null,
            "grid_template_areas": null,
            "grid_template_columns": null,
            "grid_template_rows": null,
            "height": null,
            "justify_content": null,
            "justify_items": null,
            "left": null,
            "margin": null,
            "max_height": null,
            "max_width": null,
            "min_height": null,
            "min_width": null,
            "object_fit": null,
            "object_position": null,
            "order": null,
            "overflow": null,
            "overflow_x": null,
            "overflow_y": null,
            "padding": null,
            "right": null,
            "top": null,
            "visibility": null,
            "width": null
          }
        },
        "08f4df8cb7a84dd39c0b783c381f3056": {
          "model_module": "@jupyter-widgets/controls",
          "model_name": "ProgressStyleModel",
          "model_module_version": "1.5.0",
          "state": {
            "_model_module": "@jupyter-widgets/controls",
            "_model_module_version": "1.5.0",
            "_model_name": "ProgressStyleModel",
            "_view_count": null,
            "_view_module": "@jupyter-widgets/base",
            "_view_module_version": "1.2.0",
            "_view_name": "StyleView",
            "bar_color": null,
            "description_width": ""
          }
        },
        "f0a8a134cfaa47bcacbc6b761936e754": {
          "model_module": "@jupyter-widgets/base",
          "model_name": "LayoutModel",
          "model_module_version": "1.2.0",
          "state": {
            "_model_module": "@jupyter-widgets/base",
            "_model_module_version": "1.2.0",
            "_model_name": "LayoutModel",
            "_view_count": null,
            "_view_module": "@jupyter-widgets/base",
            "_view_module_version": "1.2.0",
            "_view_name": "LayoutView",
            "align_content": null,
            "align_items": null,
            "align_self": null,
            "border": null,
            "bottom": null,
            "display": null,
            "flex": null,
            "flex_flow": null,
            "grid_area": null,
            "grid_auto_columns": null,
            "grid_auto_flow": null,
            "grid_auto_rows": null,
            "grid_column": null,
            "grid_gap": null,
            "grid_row": null,
            "grid_template_areas": null,
            "grid_template_columns": null,
            "grid_template_rows": null,
            "height": null,
            "justify_content": null,
            "justify_items": null,
            "left": null,
            "margin": null,
            "max_height": null,
            "max_width": null,
            "min_height": null,
            "min_width": null,
            "object_fit": null,
            "object_position": null,
            "order": null,
            "overflow": null,
            "overflow_x": null,
            "overflow_y": null,
            "padding": null,
            "right": null,
            "top": null,
            "visibility": null,
            "width": null
          }
        },
        "8c78040b37694944b9009ade1a547859": {
          "model_module": "@jupyter-widgets/controls",
          "model_name": "DescriptionStyleModel",
          "model_module_version": "1.5.0",
          "state": {
            "_model_module": "@jupyter-widgets/controls",
            "_model_module_version": "1.5.0",
            "_model_name": "DescriptionStyleModel",
            "_view_count": null,
            "_view_module": "@jupyter-widgets/base",
            "_view_module_version": "1.2.0",
            "_view_name": "StyleView",
            "description_width": ""
          }
        }
      }
    }
  },
  "nbformat": 4,
  "nbformat_minor": 0
}
